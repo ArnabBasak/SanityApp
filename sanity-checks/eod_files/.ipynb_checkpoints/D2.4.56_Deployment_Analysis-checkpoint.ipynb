{
 "cells": [
  {
   "cell_type": "markdown",
   "metadata": {},
   "source": [
    "<h1>D2.4.56 Analytics</h1>"
   ]
  },
  {
   "cell_type": "markdown",
   "metadata": {},
   "source": [
    "<h3>For other D50 Series Relese analytics check Below links</h3>\n",
    "<a href=\"#\">D2.4.50</a>&nbsp;&nbsp;&nbsp;<a href=\"#\">D2.4.51</a>&nbsp;&nbsp;&nbsp;<a href=\"#\">D2.4.52</a>&nbsp;&nbsp;&nbsp;<a href=\"#\">D2.4.53</a>&nbsp;&nbsp;&nbsp;<a href=\"#\">D2.4.54</a>&nbsp;&nbsp;&nbsp;<a href=\"#\">D2.4.55</a>&nbsp;&nbsp;&nbsp;<a href=\"#\">D2.4.56</a>&nbsp;&nbsp;&nbsp;<a href=\"#\">D2.4.57</a>&nbsp;&nbsp;&nbsp;<a href=\"#\">D2.4.58</a>&nbsp;&nbsp;&nbsp;<a href=\"#\">D2.4.59</a>"
   ]
  },
  {
   "cell_type": "code",
   "execution_count": 2,
   "metadata": {},
   "outputs": [],
   "source": [
    "import pandas as pd\n",
    "import numpy as np"
   ]
  },
  {
   "cell_type": "code",
   "execution_count": 3,
   "metadata": {},
   "outputs": [],
   "source": [
    "data = pd.read_csv('D2.4.56.csv')"
   ]
  },
  {
   "cell_type": "code",
   "execution_count": 4,
   "metadata": {
    "scrolled": false
   },
   "outputs": [
    {
     "data": {
      "text/html": [
       "<div>\n",
       "<style scoped>\n",
       "    .dataframe tbody tr th:only-of-type {\n",
       "        vertical-align: middle;\n",
       "    }\n",
       "\n",
       "    .dataframe tbody tr th {\n",
       "        vertical-align: top;\n",
       "    }\n",
       "\n",
       "    .dataframe thead th {\n",
       "        text-align: right;\n",
       "    }\n",
       "</style>\n",
       "<table border=\"1\" class=\"dataframe\">\n",
       "  <thead>\n",
       "    <tr style=\"text-align: right;\">\n",
       "      <th></th>\n",
       "      <th>Country</th>\n",
       "      <th>Store</th>\n",
       "      <th>Name</th>\n",
       "      <th>Date</th>\n",
       "      <th>EOD_Start</th>\n",
       "      <th>EOD_Finish</th>\n",
       "      <th>EOD_Duration</th>\n",
       "      <th>_Backup_Start</th>\n",
       "      <th>_Backup_End</th>\n",
       "      <th>_Replication_Start</th>\n",
       "      <th>_Replication_End</th>\n",
       "      <th>Replication_Duration</th>\n",
       "      <th>_Deployment_Start</th>\n",
       "      <th>_Deployment_End</th>\n",
       "      <th>_Dep_Duration</th>\n",
       "    </tr>\n",
       "  </thead>\n",
       "  <tbody>\n",
       "    <tr>\n",
       "      <th>0</th>\n",
       "      <td>England  UK</td>\n",
       "      <td>1</td>\n",
       "      <td>Basingstoke</td>\n",
       "      <td>04/10/2018</td>\n",
       "      <td>04/10/2018 20:56:08</td>\n",
       "      <td>04/10/2018 22:24:14</td>\n",
       "      <td>5286.0</td>\n",
       "      <td>04/10/2018 21:20:02</td>\n",
       "      <td>04/10/2018 21:45:08</td>\n",
       "      <td>04/10/2018 21:50:33</td>\n",
       "      <td>04/10/2018 21:56:13</td>\n",
       "      <td>340.0</td>\n",
       "      <td>0</td>\n",
       "      <td>0</td>\n",
       "      <td>0.0</td>\n",
       "    </tr>\n",
       "    <tr>\n",
       "      <th>1</th>\n",
       "      <td>England  UK</td>\n",
       "      <td>2</td>\n",
       "      <td>Southampton</td>\n",
       "      <td>04/10/2018</td>\n",
       "      <td>04/10/2018 20:34:57</td>\n",
       "      <td>04/10/2018 23:42:07</td>\n",
       "      <td>11230.0</td>\n",
       "      <td>04/10/2018 20:56:49</td>\n",
       "      <td>04/10/2018 22:28:55</td>\n",
       "      <td>04/10/2018 22:49:41</td>\n",
       "      <td>04/10/2018 23:02:27</td>\n",
       "      <td>766.0</td>\n",
       "      <td>04/10/2018 23:02:41</td>\n",
       "      <td>04/10/2018 23:07:43</td>\n",
       "      <td>302.0</td>\n",
       "    </tr>\n",
       "    <tr>\n",
       "      <th>2</th>\n",
       "      <td>England  UK</td>\n",
       "      <td>3</td>\n",
       "      <td>Isle of Wight</td>\n",
       "      <td>04/10/2018</td>\n",
       "      <td>0</td>\n",
       "      <td>0</td>\n",
       "      <td>0.0</td>\n",
       "      <td>0</td>\n",
       "      <td>0</td>\n",
       "      <td>05/10/2018 09:00:39</td>\n",
       "      <td>05/10/2018 09:03:32</td>\n",
       "      <td>173.0</td>\n",
       "      <td>0</td>\n",
       "      <td>0</td>\n",
       "      <td>0.0</td>\n",
       "    </tr>\n",
       "    <tr>\n",
       "      <th>3</th>\n",
       "      <td>Wales  UK</td>\n",
       "      <td>5</td>\n",
       "      <td>Port Talbot</td>\n",
       "      <td>04/10/2018</td>\n",
       "      <td>04/10/2018 17:38:13</td>\n",
       "      <td>04/10/2018 18:36:14</td>\n",
       "      <td>3481.0</td>\n",
       "      <td>04/10/2018 18:12:34</td>\n",
       "      <td>04/10/2018 18:22:51</td>\n",
       "      <td>04/10/2018 18:26:16</td>\n",
       "      <td>04/10/2018 18:29:45</td>\n",
       "      <td>209.0</td>\n",
       "      <td>04/10/2018 18:30:01</td>\n",
       "      <td>04/10/2018 18:31:20</td>\n",
       "      <td>79.0</td>\n",
       "    </tr>\n",
       "    <tr>\n",
       "      <th>4</th>\n",
       "      <td>England  UK</td>\n",
       "      <td>8</td>\n",
       "      <td>Peterborough</td>\n",
       "      <td>04/10/2018</td>\n",
       "      <td>04/10/2018 20:02:29</td>\n",
       "      <td>04/10/2018 23:34:38</td>\n",
       "      <td>12729.0</td>\n",
       "      <td>04/10/2018 20:26:16</td>\n",
       "      <td>04/10/2018 21:19:19</td>\n",
       "      <td>04/10/2018 21:31:15</td>\n",
       "      <td>04/10/2018 21:37:04</td>\n",
       "      <td>349.0</td>\n",
       "      <td>04/10/2018 21:39:16</td>\n",
       "      <td>04/10/2018 21:40:59</td>\n",
       "      <td>103.0</td>\n",
       "    </tr>\n",
       "  </tbody>\n",
       "</table>\n",
       "</div>"
      ],
      "text/plain": [
       "       Country  Store           Name        Date            EOD_Start  \\\n",
       "0  England  UK      1    Basingstoke  04/10/2018  04/10/2018 20:56:08   \n",
       "1  England  UK      2    Southampton  04/10/2018  04/10/2018 20:34:57   \n",
       "2  England  UK      3  Isle of Wight  04/10/2018                    0   \n",
       "3    Wales  UK      5    Port Talbot  04/10/2018  04/10/2018 17:38:13   \n",
       "4  England  UK      8   Peterborough  04/10/2018  04/10/2018 20:02:29   \n",
       "\n",
       "            EOD_Finish  EOD_Duration        _Backup_Start  \\\n",
       "0  04/10/2018 22:24:14        5286.0  04/10/2018 21:20:02   \n",
       "1  04/10/2018 23:42:07       11230.0  04/10/2018 20:56:49   \n",
       "2                    0           0.0                    0   \n",
       "3  04/10/2018 18:36:14        3481.0  04/10/2018 18:12:34   \n",
       "4  04/10/2018 23:34:38       12729.0  04/10/2018 20:26:16   \n",
       "\n",
       "           _Backup_End   _Replication_Start     _Replication_End  \\\n",
       "0  04/10/2018 21:45:08  04/10/2018 21:50:33  04/10/2018 21:56:13   \n",
       "1  04/10/2018 22:28:55  04/10/2018 22:49:41  04/10/2018 23:02:27   \n",
       "2                    0  05/10/2018 09:00:39  05/10/2018 09:03:32   \n",
       "3  04/10/2018 18:22:51  04/10/2018 18:26:16  04/10/2018 18:29:45   \n",
       "4  04/10/2018 21:19:19  04/10/2018 21:31:15  04/10/2018 21:37:04   \n",
       "\n",
       "   Replication_Duration    _Deployment_Start      _Deployment_End  \\\n",
       "0                 340.0                    0                    0   \n",
       "1                 766.0  04/10/2018 23:02:41  04/10/2018 23:07:43   \n",
       "2                 173.0                    0                    0   \n",
       "3                 209.0  04/10/2018 18:30:01  04/10/2018 18:31:20   \n",
       "4                 349.0  04/10/2018 21:39:16  04/10/2018 21:40:59   \n",
       "\n",
       "   _Dep_Duration  \n",
       "0            0.0  \n",
       "1          302.0  \n",
       "2            0.0  \n",
       "3           79.0  \n",
       "4          103.0  "
      ]
     },
     "execution_count": 4,
     "metadata": {},
     "output_type": "execute_result"
    }
   ],
   "source": [
    "data.columns = data.columns.str.replace(' ','_')\n",
    "data = data.drop(columns=['_PL_File_Size'])\n",
    "data = data.drop(columns=['_Replication_Window'])\n",
    "data = data.drop(columns=['_ST_File_Size'])\n",
    "data = data.fillna(0)\n",
    "data = data.rename(columns={'EOD_Duration(s)':'EOD_Duration','_Replication_Duration(s)':'Replication_Duration'})\n",
    "data = data.replace('-',0)\n",
    "data['EOD_Duration'] = data['EOD_Duration'].astype(float)\n",
    "data['Replication_Duration'] = data['Replication_Duration'].astype(float)\n",
    "data['_Dep_Duration'] = data['_Dep_Duration'].astype(float)\n",
    "data.head()"
   ]
  },
  {
   "cell_type": "markdown",
   "metadata": {},
   "source": [
    "### Deployment Date"
   ]
  },
  {
   "cell_type": "markdown",
   "metadata": {},
   "source": [
    "D2.4.49 was rolled out on"
   ]
  },
  {
   "cell_type": "code",
   "execution_count": 5,
   "metadata": {},
   "outputs": [
    {
     "name": "stdout",
     "output_type": "stream",
     "text": [
      " 04/10/2018\n"
     ]
    }
   ],
   "source": [
    "date = data['Date'].head(1)\n",
    "date_Deployed = date.to_string().replace(\"0    \",\" \")\n",
    "print(date_Deployed)"
   ]
  },
  {
   "cell_type": "markdown",
   "metadata": {},
   "source": [
    "### Regions Deployed"
   ]
  },
  {
   "cell_type": "markdown",
   "metadata": {},
   "source": [
    "D2.4.56 was Deployed on the Below Regions "
   ]
  },
  {
   "cell_type": "code",
   "execution_count": 6,
   "metadata": {},
   "outputs": [
    {
     "name": "stdout",
     "output_type": "stream",
     "text": [
      "England  UK\n",
      "Wales  UK\n",
      "Channel Islands\n",
      "Scotland  UK\n",
      "Northern Ireland  UK\n",
      "Isle of Man\n"
     ]
    }
   ],
   "source": [
    "region_rolled_out = data.Country.unique()\n",
    "for elements in region_rolled_out:\n",
    "    print(elements)"
   ]
  },
  {
   "cell_type": "markdown",
   "metadata": {},
   "source": [
    "### Max EOD Time"
   ]
  },
  {
   "cell_type": "code",
   "execution_count": 7,
   "metadata": {},
   "outputs": [
    {
     "data": {
      "text/html": [
       "<div>\n",
       "<style scoped>\n",
       "    .dataframe tbody tr th:only-of-type {\n",
       "        vertical-align: middle;\n",
       "    }\n",
       "\n",
       "    .dataframe tbody tr th {\n",
       "        vertical-align: top;\n",
       "    }\n",
       "\n",
       "    .dataframe thead th {\n",
       "        text-align: right;\n",
       "    }\n",
       "</style>\n",
       "<table border=\"1\" class=\"dataframe\">\n",
       "  <thead>\n",
       "    <tr style=\"text-align: right;\">\n",
       "      <th></th>\n",
       "      <th>Name</th>\n",
       "      <th>EOD_Duration</th>\n",
       "    </tr>\n",
       "  </thead>\n",
       "  <tbody>\n",
       "    <tr>\n",
       "      <th>35</th>\n",
       "      <td>Bedford</td>\n",
       "      <td>26882.0</td>\n",
       "    </tr>\n",
       "  </tbody>\n",
       "</table>\n",
       "</div>"
      ],
      "text/plain": [
       "       Name  EOD_Duration\n",
       "35  Bedford       26882.0"
      ]
     },
     "execution_count": 7,
     "metadata": {},
     "output_type": "execute_result"
    }
   ],
   "source": [
    "maxEOD = data[['Name','EOD_Duration']].where(data['EOD_Duration'] == data['EOD_Duration'].max())\n",
    "maxEOD.dropna()"
   ]
  },
  {
   "cell_type": "markdown",
   "metadata": {},
   "source": [
    "<h3> Min EOD Time </h3>"
   ]
  },
  {
   "cell_type": "code",
   "execution_count": 8,
   "metadata": {},
   "outputs": [
    {
     "data": {
      "text/html": [
       "<div>\n",
       "<style scoped>\n",
       "    .dataframe tbody tr th:only-of-type {\n",
       "        vertical-align: middle;\n",
       "    }\n",
       "\n",
       "    .dataframe tbody tr th {\n",
       "        vertical-align: top;\n",
       "    }\n",
       "\n",
       "    .dataframe thead th {\n",
       "        text-align: right;\n",
       "    }\n",
       "</style>\n",
       "<table border=\"1\" class=\"dataframe\">\n",
       "  <thead>\n",
       "    <tr style=\"text-align: right;\">\n",
       "      <th></th>\n",
       "      <th>Name</th>\n",
       "      <th>EOD_Duration</th>\n",
       "    </tr>\n",
       "  </thead>\n",
       "  <tbody>\n",
       "    <tr>\n",
       "      <th>800</th>\n",
       "      <td>Larkfield</td>\n",
       "      <td>1984.0</td>\n",
       "    </tr>\n",
       "  </tbody>\n",
       "</table>\n",
       "</div>"
      ],
      "text/plain": [
       "          Name  EOD_Duration\n",
       "800  Larkfield        1984.0"
      ]
     },
     "execution_count": 8,
     "metadata": {},
     "output_type": "execute_result"
    }
   ],
   "source": [
    "data['EOD_Duration'] = data['EOD_Duration'].replace(0,np.nan)\n",
    "min_EOD = data[['Name','EOD_Duration']].where (data['EOD_Duration'] == data['EOD_Duration'].min())\n",
    "min_EOD.dropna()"
   ]
  },
  {
   "cell_type": "markdown",
   "metadata": {},
   "source": [
    "### Total failed EOD"
   ]
  },
  {
   "cell_type": "code",
   "execution_count": 9,
   "metadata": {},
   "outputs": [
    {
     "name": "stdout",
     "output_type": "stream",
     "text": [
      "114 number of stores didn't ran EOD\n"
     ]
    }
   ],
   "source": [
    "data['EOD_Duration'] = data['EOD_Duration'].replace(np.nan,0)\n",
    "minEOD = data[['Name','EOD_Duration']].where(data['EOD_Duration'] == data['EOD_Duration'].min())\n",
    "minEOD = minEOD.dropna()\n",
    "TotalfailedEOD = len(minEOD)\n",
    "print(TotalfailedEOD,\"number of stores didn't ran EOD\")"
   ]
  },
  {
   "cell_type": "markdown",
   "metadata": {},
   "source": [
    "<h3> Total successful EOD</EOD>"
   ]
  },
  {
   "cell_type": "code",
   "execution_count": 11,
   "metadata": {},
   "outputs": [
    {
     "name": "stdout",
     "output_type": "stream",
     "text": [
      "717 number of stores have successful EOD\n"
     ]
    }
   ],
   "source": [
    "data['EOD_Duration'] = data['EOD_Duration'].replace(np.nan,0)\n",
    "maxEOD = data[['Name','EOD_Duration']].where(data['EOD_Duration'] != data['EOD_Duration'].min())\n",
    "maxEOD = maxEOD.dropna()\n",
    "TotalsuccessfulEOD = len(maxEOD)\n",
    "print(TotalsuccessfulEOD,\"number of stores have successful EOD\")"
   ]
  },
  {
   "cell_type": "markdown",
   "metadata": {},
   "source": [
    "### Average EOD Time"
   ]
  },
  {
   "cell_type": "code",
   "execution_count": 12,
   "metadata": {},
   "outputs": [
    {
     "name": "stdout",
     "output_type": "stream",
     "text": [
      "The average time taken for the EOD is  4445 seconds\n"
     ]
    }
   ],
   "source": [
    "import math\n",
    "MeanEOD = data['EOD_Duration'].mean()\n",
    "print('The average time taken for the EOD is ',math.ceil(MeanEOD),'seconds')"
   ]
  },
  {
   "cell_type": "markdown",
   "metadata": {},
   "source": [
    "<h3>EOD success Failure Distribution</h3>"
   ]
  },
  {
   "cell_type": "code",
   "execution_count": 14,
   "metadata": {},
   "outputs": [
    {
     "data": {
      "image/png": "[encoded data removed]",
      "text/plain": [
       "<Figure size 432x288 with 1 Axes>"
      ]
     },
     "metadata": {},
     "output_type": "display_data"
    }
   ],
   "source": [
    "import matplotlib.pyplot as plt\n",
    "\n",
    "# Data to plot\n",
    "labels = 'Successful EOD', 'Failed EOD'\n",
    "sizes = [TotalsuccessfulEOD,TotalfailedEOD]\n",
    "colors = ['Green', 'Red']\n",
    "explode = (0.1, 0)  # explode 1st slice\n",
    "\n",
    "# Plot\n",
    "plt.pie(sizes, explode=explode, labels=labels, colors=colors,\n",
    "autopct='%1.1f%%', shadow=True, startangle=140)\n",
    "\n",
    "plt.axis('equal')\n",
    "plt.show()"
   ]
  },
  {
   "cell_type": "markdown",
   "metadata": {},
   "source": [
    "### Max Replication Time"
   ]
  },
  {
   "cell_type": "code",
   "execution_count": 15,
   "metadata": {},
   "outputs": [
    {
     "data": {
      "text/html": [
       "<div>\n",
       "<style scoped>\n",
       "    .dataframe tbody tr th:only-of-type {\n",
       "        vertical-align: middle;\n",
       "    }\n",
       "\n",
       "    .dataframe tbody tr th {\n",
       "        vertical-align: top;\n",
       "    }\n",
       "\n",
       "    .dataframe thead th {\n",
       "        text-align: right;\n",
       "    }\n",
       "</style>\n",
       "<table border=\"1\" class=\"dataframe\">\n",
       "  <thead>\n",
       "    <tr style=\"text-align: right;\">\n",
       "      <th></th>\n",
       "      <th>Name</th>\n",
       "      <th>Replication_Duration</th>\n",
       "    </tr>\n",
       "  </thead>\n",
       "  <tbody>\n",
       "    <tr>\n",
       "      <th>485</th>\n",
       "      <td>Batley</td>\n",
       "      <td>7324.0</td>\n",
       "    </tr>\n",
       "  </tbody>\n",
       "</table>\n",
       "</div>"
      ],
      "text/plain": [
       "       Name  Replication_Duration\n",
       "485  Batley                7324.0"
      ]
     },
     "execution_count": 15,
     "metadata": {},
     "output_type": "execute_result"
    }
   ],
   "source": [
    "maxRep = data[['Name','Replication_Duration']].where(data['Replication_Duration'] == data['Replication_Duration'].max())\n",
    "maxRep.dropna()"
   ]
  },
  {
   "cell_type": "markdown",
   "metadata": {},
   "source": [
    "### Min Replication Time"
   ]
  },
  {
   "cell_type": "code",
   "execution_count": 16,
   "metadata": {},
   "outputs": [
    {
     "data": {
      "text/html": [
       "<div>\n",
       "<style scoped>\n",
       "    .dataframe tbody tr th:only-of-type {\n",
       "        vertical-align: middle;\n",
       "    }\n",
       "\n",
       "    .dataframe tbody tr th {\n",
       "        vertical-align: top;\n",
       "    }\n",
       "\n",
       "    .dataframe thead th {\n",
       "        text-align: right;\n",
       "    }\n",
       "</style>\n",
       "<table border=\"1\" class=\"dataframe\">\n",
       "  <thead>\n",
       "    <tr style=\"text-align: right;\">\n",
       "      <th></th>\n",
       "      <th>Name</th>\n",
       "      <th>Replication_Duration</th>\n",
       "    </tr>\n",
       "  </thead>\n",
       "  <tbody>\n",
       "    <tr>\n",
       "      <th>388</th>\n",
       "      <td>Sudbury</td>\n",
       "      <td>98.0</td>\n",
       "    </tr>\n",
       "  </tbody>\n",
       "</table>\n",
       "</div>"
      ],
      "text/plain": [
       "        Name  Replication_Duration\n",
       "388  Sudbury                  98.0"
      ]
     },
     "execution_count": 16,
     "metadata": {},
     "output_type": "execute_result"
    }
   ],
   "source": [
    "data['Replication_Duration'] = data['Replication_Duration'].replace(0,np.nan)\n",
    "min_Rep = data[['Name','Replication_Duration']].where (data['Replication_Duration'] == data['Replication_Duration'].min())\n",
    "min_Rep.dropna()"
   ]
  },
  {
   "cell_type": "markdown",
   "metadata": {},
   "source": [
    "<h3>Total Failed Replication</h3>"
   ]
  },
  {
   "cell_type": "code",
   "execution_count": 17,
   "metadata": {},
   "outputs": [
    {
     "name": "stdout",
     "output_type": "stream",
     "text": [
      "38 number of stores didn't ran Replication\n"
     ]
    }
   ],
   "source": [
    "data['Replication_Duration'] = data['Replication_Duration'].replace(np.nan,0)\n",
    "minRep = data[['Name','Replication_Duration']].where(data['Replication_Duration'] == data['Replication_Duration'].min())\n",
    "minRep = minRep.dropna()\n",
    "Totalreplicationfailed = len(minRep) \n",
    "print(Totalreplicationfailed,\"number of stores didn't ran Replication\")"
   ]
  },
  {
   "cell_type": "markdown",
   "metadata": {},
   "source": [
    "<h3> Total successful Replication </h3>"
   ]
  },
  {
   "cell_type": "code",
   "execution_count": 18,
   "metadata": {},
   "outputs": [
    {
     "name": "stdout",
     "output_type": "stream",
     "text": [
      "793 number of stores didn't ran Replication\n"
     ]
    }
   ],
   "source": [
    "data['Replication_Duration'] = data['Replication_Duration'].replace(np.nan,0)\n",
    "maxRep = data[['Name','Replication_Duration']].where(data['Replication_Duration'] != data['Replication_Duration'].min())\n",
    "maxRep = maxRep.dropna()\n",
    "Totalreplicationsuccessful = len(maxRep) \n",
    "print(Totalreplicationsuccessful,\"number of stores didn't ran Replication\")"
   ]
  },
  {
   "cell_type": "markdown",
   "metadata": {},
   "source": [
    "### Average Replication Time"
   ]
  },
  {
   "cell_type": "code",
   "execution_count": 19,
   "metadata": {},
   "outputs": [
    {
     "name": "stdout",
     "output_type": "stream",
     "text": [
      "The average time taken for the Replication is  285 seconds\n"
     ]
    }
   ],
   "source": [
    "MeanRep = data['Replication_Duration'].mean()\n",
    "print('The average time taken for the Replication is ',math.ceil(MeanRep),'seconds')"
   ]
  },
  {
   "cell_type": "markdown",
   "metadata": {},
   "source": [
    "<h3> Replication success failure distribution </h3>"
   ]
  },
  {
   "cell_type": "code",
   "execution_count": 20,
   "metadata": {},
   "outputs": [
    {
     "data": {
      "image/png": "[encoded data removed]",
      "text/plain": [
       "<Figure size 432x288 with 1 Axes>"
      ]
     },
     "metadata": {},
     "output_type": "display_data"
    }
   ],
   "source": [
    "# Data to plot\n",
    "labels = 'Successful Replication', 'Failed Replication'\n",
    "sizes = [Totalreplicationsuccessful,Totalreplicationfailed]\n",
    "colors = ['Green', 'Red']\n",
    "explode = (0.1, 0)  # explode 1st slice\n",
    "\n",
    "# Plot\n",
    "plt.pie(sizes, explode=explode, labels=labels, colors=colors,\n",
    "autopct='%1.1f%%', shadow=True, startangle=140)\n",
    "\n",
    "plt.axis('equal')\n",
    "plt.show()"
   ]
  },
  {
   "cell_type": "markdown",
   "metadata": {},
   "source": [
    "### Max Deployment Time"
   ]
  },
  {
   "cell_type": "code",
   "execution_count": 21,
   "metadata": {},
   "outputs": [
    {
     "data": {
      "text/html": [
       "<div>\n",
       "<style scoped>\n",
       "    .dataframe tbody tr th:only-of-type {\n",
       "        vertical-align: middle;\n",
       "    }\n",
       "\n",
       "    .dataframe tbody tr th {\n",
       "        vertical-align: top;\n",
       "    }\n",
       "\n",
       "    .dataframe thead th {\n",
       "        text-align: right;\n",
       "    }\n",
       "</style>\n",
       "<table border=\"1\" class=\"dataframe\">\n",
       "  <thead>\n",
       "    <tr style=\"text-align: right;\">\n",
       "      <th></th>\n",
       "      <th>Name</th>\n",
       "      <th>_Dep_Duration</th>\n",
       "    </tr>\n",
       "  </thead>\n",
       "  <tbody>\n",
       "    <tr>\n",
       "      <th>784</th>\n",
       "      <td>Portslade</td>\n",
       "      <td>537.0</td>\n",
       "    </tr>\n",
       "  </tbody>\n",
       "</table>\n",
       "</div>"
      ],
      "text/plain": [
       "          Name  _Dep_Duration\n",
       "784  Portslade          537.0"
      ]
     },
     "execution_count": 21,
     "metadata": {},
     "output_type": "execute_result"
    }
   ],
   "source": [
    "maxDep = data[['Name','_Dep_Duration']].where(data['_Dep_Duration'] == data['_Dep_Duration'].max())\n",
    "maxDep.dropna()"
   ]
  },
  {
   "cell_type": "markdown",
   "metadata": {},
   "source": [
    "### Min Deployment Time"
   ]
  },
  {
   "cell_type": "code",
   "execution_count": 22,
   "metadata": {},
   "outputs": [
    {
     "data": {
      "text/html": [
       "<div>\n",
       "<style scoped>\n",
       "    .dataframe tbody tr th:only-of-type {\n",
       "        vertical-align: middle;\n",
       "    }\n",
       "\n",
       "    .dataframe tbody tr th {\n",
       "        vertical-align: top;\n",
       "    }\n",
       "\n",
       "    .dataframe thead th {\n",
       "        text-align: right;\n",
       "    }\n",
       "</style>\n",
       "<table border=\"1\" class=\"dataframe\">\n",
       "  <thead>\n",
       "    <tr style=\"text-align: right;\">\n",
       "      <th></th>\n",
       "      <th>Name</th>\n",
       "      <th>_Dep_Duration</th>\n",
       "    </tr>\n",
       "  </thead>\n",
       "  <tbody>\n",
       "    <tr>\n",
       "      <th>357</th>\n",
       "      <td>Bedminster</td>\n",
       "      <td>1.0</td>\n",
       "    </tr>\n",
       "    <tr>\n",
       "      <th>392</th>\n",
       "      <td>Guiseley</td>\n",
       "      <td>1.0</td>\n",
       "    </tr>\n",
       "  </tbody>\n",
       "</table>\n",
       "</div>"
      ],
      "text/plain": [
       "           Name  _Dep_Duration\n",
       "357  Bedminster            1.0\n",
       "392    Guiseley            1.0"
      ]
     },
     "execution_count": 22,
     "metadata": {},
     "output_type": "execute_result"
    }
   ],
   "source": [
    "data['_Dep_Duration'] = data['_Dep_Duration'].replace(0,np.nan)\n",
    "min_Dep = data[['Name','_Dep_Duration']].where (data['_Dep_Duration'] == data['_Dep_Duration'].min())\n",
    "min_Dep.dropna()"
   ]
  },
  {
   "cell_type": "markdown",
   "metadata": {},
   "source": [
    "<h3> Total Failed Deployment</h3>"
   ]
  },
  {
   "cell_type": "code",
   "execution_count": 23,
   "metadata": {},
   "outputs": [
    {
     "name": "stdout",
     "output_type": "stream",
     "text": [
      "158 number of stores where artifacts didn't got deployed\n"
     ]
    }
   ],
   "source": [
    "data['_Dep_Duration'] = data['_Dep_Duration'].replace(np.nan,0)\n",
    "min_Dep = data[['Name','_Dep_Duration']].where (data['_Dep_Duration'] == data['_Dep_Duration'].min())\n",
    "minDep = min_Dep.dropna()\n",
    "totalfailedDeployment = len(minDep)\n",
    "print(totalfailedDeployment,\"number of stores where artifacts didn't got deployed\")"
   ]
  },
  {
   "cell_type": "markdown",
   "metadata": {},
   "source": [
    "<h3> Total successful Deployment </h3>"
   ]
  },
  {
   "cell_type": "code",
   "execution_count": 24,
   "metadata": {},
   "outputs": [
    {
     "name": "stdout",
     "output_type": "stream",
     "text": [
      "673 number of stores where artifacts got deployed successfully\n"
     ]
    }
   ],
   "source": [
    "max_Dep = data[['Name','_Dep_Duration']].where (data['_Dep_Duration'] != data['_Dep_Duration'].min())\n",
    "maxDep = max_Dep.dropna()\n",
    "totalsuccessfulDeployment = len(maxDep)\n",
    "print(totalsuccessfulDeployment,\"number of stores where artifacts got deployed successfully\")"
   ]
  },
  {
   "cell_type": "markdown",
   "metadata": {},
   "source": [
    "### Average Deployment Time"
   ]
  },
  {
   "cell_type": "code",
   "execution_count": 22,
   "metadata": {},
   "outputs": [
    {
     "name": "stdout",
     "output_type": "stream",
     "text": [
      "The average time taken for the Deployment is  75 seconds\n"
     ]
    }
   ],
   "source": [
    "MeanDep = data['_Dep_Duration'].mean()\n",
    "print('The average time taken for the Deployment is ',math.ceil(MeanDep),'seconds')\n"
   ]
  },
  {
   "cell_type": "markdown",
   "metadata": {},
   "source": [
    "<h3> Deployment Success Failure Distribution</h3> "
   ]
  },
  {
   "cell_type": "code",
   "execution_count": 23,
   "metadata": {},
   "outputs": [
    {
     "data": {
      "image/png": "[encoded data removed]",
      "text/plain": [
       "<matplotlib.figure.Figure at 0x1b112788710>"
      ]
     },
     "metadata": {},
     "output_type": "display_data"
    }
   ],
   "source": [
    "# Data to plot\n",
    "labels = 'Successful Deployment', 'Failed Deployment'\n",
    "sizes = [totalsuccessfulDeployment,totalfailedDeployment]\n",
    "colors = ['Green', 'Red']\n",
    "explode = (0.1, 0)  # explode 1st slice\n",
    "\n",
    "# Plot\n",
    "plt.pie(sizes, explode=explode, labels=labels, colors=colors,\n",
    "autopct='%1.1f%%', shadow=True, startangle=140)\n",
    "\n",
    "plt.axis('equal')\n",
    "plt.show()"
   ]
  },
  {
   "cell_type": "code",
   "execution_count": 24,
   "metadata": {},
   "outputs": [
    {
     "ename": "ModuleNotFoundError",
     "evalue": "No module named 'pandas_profiling'",
     "output_type": "error",
     "traceback": [
      "\u001b[1;31m---------------------------------------------------------------------------\u001b[0m",
      "\u001b[1;31mModuleNotFoundError\u001b[0m                       Traceback (most recent call last)",
      "\u001b[1;32m<ipython-input-24-fcac65e04b81>\u001b[0m in \u001b[0;36m<module>\u001b[1;34m()\u001b[0m\n\u001b[0;32m      2\u001b[0m \u001b[1;31m#maxRep = data[['Name','Replication_Duration']].where(data['Replication_Duration'] != data['Replication_Duration'].min())\u001b[0m\u001b[1;33m\u001b[0m\u001b[1;33m\u001b[0m\u001b[0m\n\u001b[0;32m      3\u001b[0m \u001b[1;31m#maxRep = maxRep.dropna()\u001b[0m\u001b[1;33m\u001b[0m\u001b[1;33m\u001b[0m\u001b[0m\n\u001b[1;32m----> 4\u001b[1;33m \u001b[1;32mimport\u001b[0m \u001b[0mpandas_profiling\u001b[0m\u001b[1;33m\u001b[0m\u001b[0m\n\u001b[0m\u001b[0;32m      5\u001b[0m \u001b[0mprofile_report\u001b[0m \u001b[1;33m=\u001b[0m \u001b[0mpandas_profiling\u001b[0m\u001b[1;33m.\u001b[0m\u001b[0mProfileReport\u001b[0m\u001b[1;33m(\u001b[0m\u001b[0mdata\u001b[0m\u001b[1;33m)\u001b[0m\u001b[1;33m\u001b[0m\u001b[0m\n\u001b[0;32m      6\u001b[0m \u001b[0mprofile_report\u001b[0m\u001b[1;33m.\u001b[0m\u001b[0mto_file\u001b[0m\u001b[1;33m(\u001b[0m\u001b[1;34m'D2.4.49.html'\u001b[0m\u001b[1;33m)\u001b[0m\u001b[1;33m\u001b[0m\u001b[0m\n",
      "\u001b[1;31mModuleNotFoundError\u001b[0m: No module named 'pandas_profiling'"
     ]
    }
   ],
   "source": [
    "#data['Replication_Duration'] = data['Replication_Duration'].replace(np.nan,0)\n",
    "#maxRep = data[['Name','Replication_Duration']].where(data['Replication_Duration'] != data['Replication_Duration'].min())\n",
    "#maxRep = maxRep.dropna()\n",
    "import pandas_profiling\n",
    "profile_report = pandas_profiling.ProfileReport(data)\n",
    "profile_report.to_file('D2.4.49.html')\n",
    "#profile_report.to_html()\n",
    "#Totalreplicationsuccessful = len(maxRep) \n",
    "#print(Totalreplicationsuccessful,\"number of stores didn't ran Replication\")"
   ]
  },
  {
   "cell_type": "markdown",
   "metadata": {},
   "source": [
    "<a href=\"Analytics/D2.4.49_DrillDown.html\">Drill Down for more Analytics</a>"
   ]
  },
  {
   "cell_type": "code",
   "execution_count": null,
   "metadata": {},
   "outputs": [],
   "source": []
  }
 ],
 "metadata": {
  "kernelspec": {
   "display_name": "Python 3",
   "language": "python",
   "name": "python3"
  },
  "language_info": {
   "codemirror_mode": {
    "name": "ipython",
    "version": 3
   },
   "file_extension": ".py",
   "mimetype": "text/x-python",
   "name": "python",
   "nbconvert_exporter": "python",
   "pygments_lexer": "ipython3",
   "version": "3.7.0"
  }
 },
 "nbformat": 4,
 "nbformat_minor": 2
}
