{
 "cells": [
  {
   "cell_type": "code",
   "execution_count": 1,
   "metadata": {},
   "outputs": [],
   "source": [
    "import pandas as pd\n",
    "import numpy as np"
   ]
  },
  {
   "cell_type": "code",
   "execution_count": 2,
   "metadata": {},
   "outputs": [],
   "source": [
    "data = pd.read_csv('D2.4.49.csv')"
   ]
  },
  {
   "cell_type": "code",
   "execution_count": 3,
   "metadata": {
    "scrolled": false
   },
   "outputs": [],
   "source": [
    "data.columns = data.columns.str.replace(' ','_')\n",
    "data = data.drop(columns=['_PL_File_Size'])\n",
    "data = data.drop(columns=['_Replication_Window'])\n",
    "data = data.drop(columns=['_ST_File_Size'])\n",
    "data = data.fillna(0)"
   ]
  },
  {
   "cell_type": "code",
   "execution_count": 4,
   "metadata": {},
   "outputs": [],
   "source": [
    "Character_replace = {'-':0}\n",
    "data.replace(Character_replace,regex=True,inplace=True)"
   ]
  },
  {
   "cell_type": "code",
   "execution_count": 5,
   "metadata": {},
   "outputs": [
    {
     "data": {
      "text/html": [
       "<div>\n",
       "<style scoped>\n",
       "    .dataframe tbody tr th:only-of-type {\n",
       "        vertical-align: middle;\n",
       "    }\n",
       "\n",
       "    .dataframe tbody tr th {\n",
       "        vertical-align: top;\n",
       "    }\n",
       "\n",
       "    .dataframe thead th {\n",
       "        text-align: right;\n",
       "    }\n",
       "</style>\n",
       "<table border=\"1\" class=\"dataframe\">\n",
       "  <thead>\n",
       "    <tr style=\"text-align: right;\">\n",
       "      <th></th>\n",
       "      <th>Country</th>\n",
       "      <th>Store</th>\n",
       "      <th>Name</th>\n",
       "      <th>Date</th>\n",
       "      <th>EOD_Start</th>\n",
       "      <th>EOD_Finish</th>\n",
       "      <th>EOD_Duration(s)</th>\n",
       "      <th>_Backup_Start</th>\n",
       "      <th>_Backup_End</th>\n",
       "      <th>_Replication_Start</th>\n",
       "      <th>_Replication_End</th>\n",
       "      <th>_Replication_Duration(s)</th>\n",
       "      <th>_Deployment_Start</th>\n",
       "      <th>_Deployment_End</th>\n",
       "      <th>_Dep_Duration</th>\n",
       "    </tr>\n",
       "  </thead>\n",
       "  <tbody>\n",
       "    <tr>\n",
       "      <th>0</th>\n",
       "      <td>England  UK</td>\n",
       "      <td>1</td>\n",
       "      <td>Basingstoke</td>\n",
       "      <td>22/04/2018</td>\n",
       "      <td>22/04/2018 18:57:59</td>\n",
       "      <td>22/04/2018 20:13:14</td>\n",
       "      <td>4515</td>\n",
       "      <td>22/04/2018 19:19:59</td>\n",
       "      <td>22/04/2018 19:41:55</td>\n",
       "      <td>22/04/2018 19:46:01</td>\n",
       "      <td>22/04/2018 19:48:04</td>\n",
       "      <td>123</td>\n",
       "      <td>0</td>\n",
       "      <td>0</td>\n",
       "      <td>0.0</td>\n",
       "    </tr>\n",
       "    <tr>\n",
       "      <th>1</th>\n",
       "      <td>England  UK</td>\n",
       "      <td>2</td>\n",
       "      <td>Southampton</td>\n",
       "      <td>22/04/2018</td>\n",
       "      <td>22/04/2018 17:35:48</td>\n",
       "      <td>22/04/2018 20:39:15</td>\n",
       "      <td>11007</td>\n",
       "      <td>22/04/2018 17:58:41</td>\n",
       "      <td>22/04/2018 19:28:50</td>\n",
       "      <td>22/04/2018 19:49:16</td>\n",
       "      <td>22/04/2018 20:00:42</td>\n",
       "      <td>686</td>\n",
       "      <td>22/04/2018 20:01:06</td>\n",
       "      <td>22/04/2018 20:06:16</td>\n",
       "      <td>310.0</td>\n",
       "    </tr>\n",
       "    <tr>\n",
       "      <th>2</th>\n",
       "      <td>England  UK</td>\n",
       "      <td>3</td>\n",
       "      <td>Isle of Wight</td>\n",
       "      <td>22/04/2018</td>\n",
       "      <td>22/04/2018 17:30:25</td>\n",
       "      <td>0</td>\n",
       "      <td>0</td>\n",
       "      <td>22/04/2018 18:09:25</td>\n",
       "      <td>0</td>\n",
       "      <td>22/04/2018 18:12:41</td>\n",
       "      <td>22/04/2018 18:17:14</td>\n",
       "      <td>273</td>\n",
       "      <td>0</td>\n",
       "      <td>0</td>\n",
       "      <td>0.0</td>\n",
       "    </tr>\n",
       "    <tr>\n",
       "      <th>3</th>\n",
       "      <td>Wales  UK</td>\n",
       "      <td>5</td>\n",
       "      <td>Port Talbot</td>\n",
       "      <td>22/04/2018</td>\n",
       "      <td>0</td>\n",
       "      <td>0</td>\n",
       "      <td>0</td>\n",
       "      <td>0</td>\n",
       "      <td>0</td>\n",
       "      <td>23/04/2018 09:00:32</td>\n",
       "      <td>23/04/2018 09:02:46</td>\n",
       "      <td>134</td>\n",
       "      <td>0</td>\n",
       "      <td>0</td>\n",
       "      <td>0.0</td>\n",
       "    </tr>\n",
       "    <tr>\n",
       "      <th>4</th>\n",
       "      <td>England  UK</td>\n",
       "      <td>8</td>\n",
       "      <td>Peterborough</td>\n",
       "      <td>22/04/2018</td>\n",
       "      <td>22/04/2018 17:38:45</td>\n",
       "      <td>22/04/2018 21:01:41</td>\n",
       "      <td>12176</td>\n",
       "      <td>22/04/2018 18:02:20</td>\n",
       "      <td>22/04/2018 18:54:32</td>\n",
       "      <td>22/04/2018 19:06:57</td>\n",
       "      <td>22/04/2018 19:10:51</td>\n",
       "      <td>234</td>\n",
       "      <td>22/04/2018 19:13:13</td>\n",
       "      <td>22/04/2018 19:15:07</td>\n",
       "      <td>114.0</td>\n",
       "    </tr>\n",
       "  </tbody>\n",
       "</table>\n",
       "</div>"
      ],
      "text/plain": [
       "       Country  Store           Name        Date            EOD_Start  \\\n",
       "0  England  UK      1    Basingstoke  22/04/2018  22/04/2018 18:57:59   \n",
       "1  England  UK      2    Southampton  22/04/2018  22/04/2018 17:35:48   \n",
       "2  England  UK      3  Isle of Wight  22/04/2018  22/04/2018 17:30:25   \n",
       "3    Wales  UK      5    Port Talbot  22/04/2018                    0   \n",
       "4  England  UK      8   Peterborough  22/04/2018  22/04/2018 17:38:45   \n",
       "\n",
       "            EOD_Finish EOD_Duration(s)        _Backup_Start  \\\n",
       "0  22/04/2018 20:13:14            4515  22/04/2018 19:19:59   \n",
       "1  22/04/2018 20:39:15           11007  22/04/2018 17:58:41   \n",
       "2                    0               0  22/04/2018 18:09:25   \n",
       "3                    0               0                    0   \n",
       "4  22/04/2018 21:01:41           12176  22/04/2018 18:02:20   \n",
       "\n",
       "           _Backup_End   _Replication_Start     _Replication_End  \\\n",
       "0  22/04/2018 19:41:55  22/04/2018 19:46:01  22/04/2018 19:48:04   \n",
       "1  22/04/2018 19:28:50  22/04/2018 19:49:16  22/04/2018 20:00:42   \n",
       "2                    0  22/04/2018 18:12:41  22/04/2018 18:17:14   \n",
       "3                    0  23/04/2018 09:00:32  23/04/2018 09:02:46   \n",
       "4  22/04/2018 18:54:32  22/04/2018 19:06:57  22/04/2018 19:10:51   \n",
       "\n",
       "  _Replication_Duration(s)    _Deployment_Start      _Deployment_End  \\\n",
       "0                      123                    0                    0   \n",
       "1                      686  22/04/2018 20:01:06  22/04/2018 20:06:16   \n",
       "2                      273                    0                    0   \n",
       "3                      134                    0                    0   \n",
       "4                      234  22/04/2018 19:13:13  22/04/2018 19:15:07   \n",
       "\n",
       "   _Dep_Duration  \n",
       "0            0.0  \n",
       "1          310.0  \n",
       "2            0.0  \n",
       "3            0.0  \n",
       "4          114.0  "
      ]
     },
     "execution_count": 5,
     "metadata": {},
     "output_type": "execute_result"
    }
   ],
   "source": [
    "data.head()"
   ]
  },
  {
   "cell_type": "markdown",
   "metadata": {},
   "source": [
    "### Deployment Date"
   ]
  },
  {
   "cell_type": "markdown",
   "metadata": {},
   "source": [
    "D2.4.49 was rolled out on"
   ]
  },
  {
   "cell_type": "code",
   "execution_count": 38,
   "metadata": {},
   "outputs": [
    {
     "name": "stdout",
     "output_type": "stream",
     "text": [
      "D2.4.49 was deployed on   22/04/2018\n"
     ]
    }
   ],
   "source": [
    "date = data['Date'].head(1)\n",
    "date_Deployed = date.to_string().replace(\"0    \",\" \")\n",
    "print(\"D2.4.49 was deployed on \",date_Deployed)"
   ]
  },
  {
   "cell_type": "markdown",
   "metadata": {},
   "source": [
    "### Regions Deployed"
   ]
  },
  {
   "cell_type": "markdown",
   "metadata": {},
   "source": [
    "D2.4.49 was Deployed on the Below Regions "
   ]
  },
  {
   "cell_type": "code",
   "execution_count": 18,
   "metadata": {},
   "outputs": [
    {
     "name": "stdout",
     "output_type": "stream",
     "text": [
      "England  UK\n",
      "Wales  UK\n",
      "Channel Islands\n",
      "Scotland  UK\n",
      "Northern Ireland  UK\n",
      "Isle of Man\n"
     ]
    }
   ],
   "source": [
    "region_rolled_out = data.Country.unique()\n",
    "for elements in region_rolled_out:\n",
    "    print(elements)"
   ]
  },
  {
   "cell_type": "markdown",
   "metadata": {},
   "source": [
    "### Max EOD Time"
   ]
  },
  {
   "cell_type": "code",
   "execution_count": null,
   "metadata": {},
   "outputs": [],
   "source": []
  },
  {
   "cell_type": "code",
   "execution_count": null,
   "metadata": {},
   "outputs": [],
   "source": []
  },
  {
   "cell_type": "markdown",
   "metadata": {},
   "source": [
    "### Min EOD Time"
   ]
  },
  {
   "cell_type": "markdown",
   "metadata": {},
   "source": [
    "### Average EOD Time"
   ]
  },
  {
   "cell_type": "markdown",
   "metadata": {},
   "source": [
    "### Max Replication Time"
   ]
  },
  {
   "cell_type": "markdown",
   "metadata": {},
   "source": [
    "### Min Replication Time"
   ]
  },
  {
   "cell_type": "markdown",
   "metadata": {},
   "source": [
    "### Average Replication Time"
   ]
  },
  {
   "cell_type": "markdown",
   "metadata": {},
   "source": [
    "### Max Deployment Time"
   ]
  },
  {
   "cell_type": "markdown",
   "metadata": {},
   "source": [
    "### Min Deployment Time"
   ]
  },
  {
   "cell_type": "markdown",
   "metadata": {},
   "source": [
    "### Average Deployment Time"
   ]
  },
  {
   "cell_type": "markdown",
   "metadata": {},
   "source": [
    "<h3> Succss Failure Distribution</h3> "
   ]
  },
  {
   "cell_type": "code",
   "execution_count": null,
   "metadata": {},
   "outputs": [],
   "source": []
  }
 ],
 "metadata": {
  "kernelspec": {
   "display_name": "Python 3",
   "language": "python",
   "name": "python3"
  },
  "language_info": {
   "codemirror_mode": {
    "name": "ipython",
    "version": 3
   },
   "file_extension": ".py",
   "mimetype": "text/x-python",
   "name": "python",
   "nbconvert_exporter": "python",
   "pygments_lexer": "ipython3",
   "version": "3.6.4"
  }
 },
 "nbformat": 4,
 "nbformat_minor": 2
}
