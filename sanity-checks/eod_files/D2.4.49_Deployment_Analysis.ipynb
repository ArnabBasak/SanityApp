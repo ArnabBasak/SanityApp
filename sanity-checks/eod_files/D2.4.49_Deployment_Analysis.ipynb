{
 "cells": [
  {
   "cell_type": "code",
   "execution_count": 1,
   "metadata": {},
   "outputs": [],
   "source": [
    "import pandas as pd\n",
    "import numpy as np"
   ]
  },
  {
   "cell_type": "code",
   "execution_count": 2,
   "metadata": {},
   "outputs": [],
   "source": [
    "data = pd.read_csv('D2.4.49.csv')"
   ]
  },
  {
   "cell_type": "code",
   "execution_count": 3,
   "metadata": {
    "scrolled": false
   },
   "outputs": [
    {
     "data": {
      "text/html": [
       "<div>\n",
       "<style scoped>\n",
       "    .dataframe tbody tr th:only-of-type {\n",
       "        vertical-align: middle;\n",
       "    }\n",
       "\n",
       "    .dataframe tbody tr th {\n",
       "        vertical-align: top;\n",
       "    }\n",
       "\n",
       "    .dataframe thead th {\n",
       "        text-align: right;\n",
       "    }\n",
       "</style>\n",
       "<table border=\"1\" class=\"dataframe\">\n",
       "  <thead>\n",
       "    <tr style=\"text-align: right;\">\n",
       "      <th></th>\n",
       "      <th>Country</th>\n",
       "      <th>Store</th>\n",
       "      <th>Name</th>\n",
       "      <th>Date</th>\n",
       "      <th>EOD_Start</th>\n",
       "      <th>EOD_Finish</th>\n",
       "      <th>EOD_Duration</th>\n",
       "      <th>_Backup_Start</th>\n",
       "      <th>_Backup_End</th>\n",
       "      <th>_Replication_Start</th>\n",
       "      <th>_Replication_End</th>\n",
       "      <th>Replication_Duration</th>\n",
       "      <th>_Deployment_Start</th>\n",
       "      <th>_Deployment_End</th>\n",
       "      <th>_Dep_Duration</th>\n",
       "    </tr>\n",
       "  </thead>\n",
       "  <tbody>\n",
       "    <tr>\n",
       "      <th>0</th>\n",
       "      <td>England  UK</td>\n",
       "      <td>1</td>\n",
       "      <td>Basingstoke</td>\n",
       "      <td>22/04/2018</td>\n",
       "      <td>22/04/2018 18:57:59</td>\n",
       "      <td>22/04/2018 20:13:14</td>\n",
       "      <td>4515.0</td>\n",
       "      <td>22/04/2018 19:19:59</td>\n",
       "      <td>22/04/2018 19:41:55</td>\n",
       "      <td>22/04/2018 19:46:01</td>\n",
       "      <td>22/04/2018 19:48:04</td>\n",
       "      <td>123.0</td>\n",
       "      <td>0</td>\n",
       "      <td>0</td>\n",
       "      <td>0.0</td>\n",
       "    </tr>\n",
       "    <tr>\n",
       "      <th>1</th>\n",
       "      <td>England  UK</td>\n",
       "      <td>2</td>\n",
       "      <td>Southampton</td>\n",
       "      <td>22/04/2018</td>\n",
       "      <td>22/04/2018 17:35:48</td>\n",
       "      <td>22/04/2018 20:39:15</td>\n",
       "      <td>11007.0</td>\n",
       "      <td>22/04/2018 17:58:41</td>\n",
       "      <td>22/04/2018 19:28:50</td>\n",
       "      <td>22/04/2018 19:49:16</td>\n",
       "      <td>22/04/2018 20:00:42</td>\n",
       "      <td>686.0</td>\n",
       "      <td>22/04/2018 20:01:06</td>\n",
       "      <td>22/04/2018 20:06:16</td>\n",
       "      <td>310.0</td>\n",
       "    </tr>\n",
       "    <tr>\n",
       "      <th>2</th>\n",
       "      <td>England  UK</td>\n",
       "      <td>3</td>\n",
       "      <td>Isle of Wight</td>\n",
       "      <td>22/04/2018</td>\n",
       "      <td>22/04/2018 17:30:25</td>\n",
       "      <td>0</td>\n",
       "      <td>0.0</td>\n",
       "      <td>22/04/2018 18:09:25</td>\n",
       "      <td>0</td>\n",
       "      <td>22/04/2018 18:12:41</td>\n",
       "      <td>22/04/2018 18:17:14</td>\n",
       "      <td>273.0</td>\n",
       "      <td>0</td>\n",
       "      <td>0</td>\n",
       "      <td>0.0</td>\n",
       "    </tr>\n",
       "    <tr>\n",
       "      <th>3</th>\n",
       "      <td>Wales  UK</td>\n",
       "      <td>5</td>\n",
       "      <td>Port Talbot</td>\n",
       "      <td>22/04/2018</td>\n",
       "      <td>0</td>\n",
       "      <td>0</td>\n",
       "      <td>0.0</td>\n",
       "      <td>0</td>\n",
       "      <td>0</td>\n",
       "      <td>23/04/2018 09:00:32</td>\n",
       "      <td>23/04/2018 09:02:46</td>\n",
       "      <td>134.0</td>\n",
       "      <td>0</td>\n",
       "      <td>0</td>\n",
       "      <td>0.0</td>\n",
       "    </tr>\n",
       "    <tr>\n",
       "      <th>4</th>\n",
       "      <td>England  UK</td>\n",
       "      <td>8</td>\n",
       "      <td>Peterborough</td>\n",
       "      <td>22/04/2018</td>\n",
       "      <td>22/04/2018 17:38:45</td>\n",
       "      <td>22/04/2018 21:01:41</td>\n",
       "      <td>12176.0</td>\n",
       "      <td>22/04/2018 18:02:20</td>\n",
       "      <td>22/04/2018 18:54:32</td>\n",
       "      <td>22/04/2018 19:06:57</td>\n",
       "      <td>22/04/2018 19:10:51</td>\n",
       "      <td>234.0</td>\n",
       "      <td>22/04/2018 19:13:13</td>\n",
       "      <td>22/04/2018 19:15:07</td>\n",
       "      <td>114.0</td>\n",
       "    </tr>\n",
       "  </tbody>\n",
       "</table>\n",
       "</div>"
      ],
      "text/plain": [
       "       Country  Store           Name        Date            EOD_Start  \\\n",
       "0  England  UK      1    Basingstoke  22/04/2018  22/04/2018 18:57:59   \n",
       "1  England  UK      2    Southampton  22/04/2018  22/04/2018 17:35:48   \n",
       "2  England  UK      3  Isle of Wight  22/04/2018  22/04/2018 17:30:25   \n",
       "3    Wales  UK      5    Port Talbot  22/04/2018                    0   \n",
       "4  England  UK      8   Peterborough  22/04/2018  22/04/2018 17:38:45   \n",
       "\n",
       "            EOD_Finish  EOD_Duration        _Backup_Start  \\\n",
       "0  22/04/2018 20:13:14        4515.0  22/04/2018 19:19:59   \n",
       "1  22/04/2018 20:39:15       11007.0  22/04/2018 17:58:41   \n",
       "2                    0           0.0  22/04/2018 18:09:25   \n",
       "3                    0           0.0                    0   \n",
       "4  22/04/2018 21:01:41       12176.0  22/04/2018 18:02:20   \n",
       "\n",
       "           _Backup_End   _Replication_Start     _Replication_End  \\\n",
       "0  22/04/2018 19:41:55  22/04/2018 19:46:01  22/04/2018 19:48:04   \n",
       "1  22/04/2018 19:28:50  22/04/2018 19:49:16  22/04/2018 20:00:42   \n",
       "2                    0  22/04/2018 18:12:41  22/04/2018 18:17:14   \n",
       "3                    0  23/04/2018 09:00:32  23/04/2018 09:02:46   \n",
       "4  22/04/2018 18:54:32  22/04/2018 19:06:57  22/04/2018 19:10:51   \n",
       "\n",
       "   Replication_Duration    _Deployment_Start      _Deployment_End  \\\n",
       "0                 123.0                    0                    0   \n",
       "1                 686.0  22/04/2018 20:01:06  22/04/2018 20:06:16   \n",
       "2                 273.0                    0                    0   \n",
       "3                 134.0                    0                    0   \n",
       "4                 234.0  22/04/2018 19:13:13  22/04/2018 19:15:07   \n",
       "\n",
       "   _Dep_Duration  \n",
       "0            0.0  \n",
       "1          310.0  \n",
       "2            0.0  \n",
       "3            0.0  \n",
       "4          114.0  "
      ]
     },
     "execution_count": 3,
     "metadata": {},
     "output_type": "execute_result"
    }
   ],
   "source": [
    "data.columns = data.columns.str.replace(' ','_')\n",
    "data = data.drop(columns=['_PL_File_Size'])\n",
    "data = data.drop(columns=['_Replication_Window'])\n",
    "data = data.drop(columns=['_ST_File_Size'])\n",
    "data = data.fillna(0)\n",
    "data = data.rename(columns={'EOD_Duration(s)':'EOD_Duration','_Replication_Duration(s)':'Replication_Duration'})\n",
    "data = data.replace('-',0)\n",
    "data['EOD_Duration'] = data['EOD_Duration'].astype(float)\n",
    "data['Replication_Duration'] = data['Replication_Duration'].astype(float)\n",
    "data['_Dep_Duration'] = data['_Dep_Duration'].astype(float)\n",
    "data.head()"
   ]
  },
  {
   "cell_type": "markdown",
   "metadata": {},
   "source": [
    "### Deployment Date"
   ]
  },
  {
   "cell_type": "markdown",
   "metadata": {},
   "source": [
    "D2.4.49 was rolled out on"
   ]
  },
  {
   "cell_type": "code",
   "execution_count": 4,
   "metadata": {},
   "outputs": [
    {
     "name": "stdout",
     "output_type": "stream",
     "text": [
      " 22/04/2018\n"
     ]
    }
   ],
   "source": [
    "date = data['Date'].head(1)\n",
    "date_Deployed = date.to_string().replace(\"0    \",\" \")\n",
    "print(date_Deployed)"
   ]
  },
  {
   "cell_type": "markdown",
   "metadata": {},
   "source": [
    "### Regions Deployed"
   ]
  },
  {
   "cell_type": "markdown",
   "metadata": {},
   "source": [
    "D2.4.49 was Deployed on the Below Regions "
   ]
  },
  {
   "cell_type": "code",
   "execution_count": 5,
   "metadata": {},
   "outputs": [
    {
     "name": "stdout",
     "output_type": "stream",
     "text": [
      "England  UK\n",
      "Wales  UK\n",
      "Channel Islands\n",
      "Scotland  UK\n",
      "Northern Ireland  UK\n",
      "Isle of Man\n"
     ]
    }
   ],
   "source": [
    "region_rolled_out = data.Country.unique()\n",
    "for elements in region_rolled_out:\n",
    "    print(elements)"
   ]
  },
  {
   "cell_type": "markdown",
   "metadata": {},
   "source": [
    "### Max EOD Time"
   ]
  },
  {
   "cell_type": "code",
   "execution_count": 6,
   "metadata": {},
   "outputs": [
    {
     "data": {
      "text/html": [
       "<div>\n",
       "<style scoped>\n",
       "    .dataframe tbody tr th:only-of-type {\n",
       "        vertical-align: middle;\n",
       "    }\n",
       "\n",
       "    .dataframe tbody tr th {\n",
       "        vertical-align: top;\n",
       "    }\n",
       "\n",
       "    .dataframe thead th {\n",
       "        text-align: right;\n",
       "    }\n",
       "</style>\n",
       "<table border=\"1\" class=\"dataframe\">\n",
       "  <thead>\n",
       "    <tr style=\"text-align: right;\">\n",
       "      <th></th>\n",
       "      <th>Name</th>\n",
       "      <th>EOD_Duration</th>\n",
       "    </tr>\n",
       "  </thead>\n",
       "  <tbody>\n",
       "    <tr>\n",
       "      <th>35</th>\n",
       "      <td>Bedford</td>\n",
       "      <td>28312.0</td>\n",
       "    </tr>\n",
       "  </tbody>\n",
       "</table>\n",
       "</div>"
      ],
      "text/plain": [
       "       Name  EOD_Duration\n",
       "35  Bedford       28312.0"
      ]
     },
     "execution_count": 6,
     "metadata": {},
     "output_type": "execute_result"
    }
   ],
   "source": [
    "maxEOD = data[['Name','EOD_Duration']].where(data['EOD_Duration'] == data['EOD_Duration'].max())\n",
    "maxEOD.dropna()"
   ]
  },
  {
   "cell_type": "markdown",
   "metadata": {},
   "source": [
    "<h3> Min EOD Time </h3>"
   ]
  },
  {
   "cell_type": "code",
   "execution_count": 7,
   "metadata": {},
   "outputs": [
    {
     "data": {
      "text/html": [
       "<div>\n",
       "<style scoped>\n",
       "    .dataframe tbody tr th:only-of-type {\n",
       "        vertical-align: middle;\n",
       "    }\n",
       "\n",
       "    .dataframe tbody tr th {\n",
       "        vertical-align: top;\n",
       "    }\n",
       "\n",
       "    .dataframe thead th {\n",
       "        text-align: right;\n",
       "    }\n",
       "</style>\n",
       "<table border=\"1\" class=\"dataframe\">\n",
       "  <thead>\n",
       "    <tr style=\"text-align: right;\">\n",
       "      <th></th>\n",
       "      <th>Name</th>\n",
       "      <th>EOD_Duration</th>\n",
       "    </tr>\n",
       "  </thead>\n",
       "  <tbody>\n",
       "    <tr>\n",
       "      <th>783</th>\n",
       "      <td>Barnstaple Roundswell</td>\n",
       "      <td>1960.0</td>\n",
       "    </tr>\n",
       "  </tbody>\n",
       "</table>\n",
       "</div>"
      ],
      "text/plain": [
       "                      Name  EOD_Duration\n",
       "783  Barnstaple Roundswell        1960.0"
      ]
     },
     "execution_count": 7,
     "metadata": {},
     "output_type": "execute_result"
    }
   ],
   "source": [
    "data['EOD_Duration'] = data['EOD_Duration'].replace(0,np.nan)\n",
    "min_EOD = data[['Name','EOD_Duration']].where (data['EOD_Duration'] == data['EOD_Duration'].min())\n",
    "min_EOD.dropna()"
   ]
  },
  {
   "cell_type": "markdown",
   "metadata": {},
   "source": [
    "### Total failed EOD"
   ]
  },
  {
   "cell_type": "code",
   "execution_count": 8,
   "metadata": {},
   "outputs": [
    {
     "name": "stdout",
     "output_type": "stream",
     "text": [
      "237 number of stores didn't ran EOD\n"
     ]
    }
   ],
   "source": [
    "data['EOD_Duration'] = data['EOD_Duration'].replace(np.nan,0)\n",
    "minEOD = data[['Name','EOD_Duration']].where(data['EOD_Duration'] == data['EOD_Duration'].min())\n",
    "minEOD = minEOD.dropna()\n",
    "TotalfailedEOD = len(minEOD)\n",
    "print(TotalfailedEOD,\"number of stores didn't ran EOD\")"
   ]
  },
  {
   "cell_type": "markdown",
   "metadata": {},
   "source": [
    "<h3> Total successful EOD</EOD>"
   ]
  },
  {
   "cell_type": "code",
   "execution_count": 9,
   "metadata": {},
   "outputs": [
    {
     "name": "stdout",
     "output_type": "stream",
     "text": [
      "562 number of stores have successful EOD\n"
     ]
    }
   ],
   "source": [
    "data['EOD_Duration'] = data['EOD_Duration'].replace(np.nan,0)\n",
    "maxEOD = data[['Name','EOD_Duration']].where(data['EOD_Duration'] != data['EOD_Duration'].min())\n",
    "maxEOD = maxEOD.dropna()\n",
    "TotalsuccessfulEOD = len(maxEOD)\n",
    "print(TotalsuccessfulEOD,\"number of stores have successful EOD\")"
   ]
  },
  {
   "cell_type": "markdown",
   "metadata": {},
   "source": [
    "### Average EOD Time"
   ]
  },
  {
   "cell_type": "code",
   "execution_count": 10,
   "metadata": {},
   "outputs": [
    {
     "name": "stdout",
     "output_type": "stream",
     "text": [
      "The average time taken for the EOD is  3968 seconds\n"
     ]
    }
   ],
   "source": [
    "import math\n",
    "MeanEOD = data['EOD_Duration'].mean()\n",
    "print('The average time taken for the EOD is ',math.ceil(MeanEOD),'seconds')"
   ]
  },
  {
   "cell_type": "markdown",
   "metadata": {},
   "source": [
    "<h3>EOD success Failure Distribution</h3>"
   ]
  },
  {
   "cell_type": "code",
   "execution_count": 11,
   "metadata": {},
   "outputs": [
    {
     "data": {
      "text/plain": [
       "<Figure size 640x480 with 1 Axes>"
      ]
     },
     "metadata": {},
     "output_type": "display_data"
    }
   ],
   "source": [
    "import matplotlib.pyplot as plt\n",
    "\n",
    "# Data to plot\n",
    "labels = 'Successful EOD', 'Failed EOD'\n",
    "sizes = [TotalsuccessfulEOD,TotalfailedEOD]\n",
    "colors = ['Green', 'Red']\n",
    "explode = (0.1, 0)  # explode 1st slice\n",
    "\n",
    "# Plot\n",
    "plt.pie(sizes, explode=explode, labels=labels, colors=colors,\n",
    "autopct='%1.1f%%', shadow=True, startangle=140)\n",
    "\n",
    "plt.axis('equal')\n",
    "plt.show()"
   ]
  },
  {
   "cell_type": "markdown",
   "metadata": {},
   "source": [
    "### Max Replication Time"
   ]
  },
  {
   "cell_type": "code",
   "execution_count": 12,
   "metadata": {},
   "outputs": [
    {
     "data": {
      "text/html": [
       "<div>\n",
       "<style scoped>\n",
       "    .dataframe tbody tr th:only-of-type {\n",
       "        vertical-align: middle;\n",
       "    }\n",
       "\n",
       "    .dataframe tbody tr th {\n",
       "        vertical-align: top;\n",
       "    }\n",
       "\n",
       "    .dataframe thead th {\n",
       "        text-align: right;\n",
       "    }\n",
       "</style>\n",
       "<table border=\"1\" class=\"dataframe\">\n",
       "  <thead>\n",
       "    <tr style=\"text-align: right;\">\n",
       "      <th></th>\n",
       "      <th>Name</th>\n",
       "      <th>Replication_Duration</th>\n",
       "    </tr>\n",
       "  </thead>\n",
       "  <tbody>\n",
       "    <tr>\n",
       "      <th>486</th>\n",
       "      <td>Batley</td>\n",
       "      <td>9973.0</td>\n",
       "    </tr>\n",
       "  </tbody>\n",
       "</table>\n",
       "</div>"
      ],
      "text/plain": [
       "       Name  Replication_Duration\n",
       "486  Batley                9973.0"
      ]
     },
     "execution_count": 12,
     "metadata": {},
     "output_type": "execute_result"
    }
   ],
   "source": [
    "maxRep = data[['Name','Replication_Duration']].where(data['Replication_Duration'] == data['Replication_Duration'].max())\n",
    "maxRep.dropna()"
   ]
  },
  {
   "cell_type": "markdown",
   "metadata": {},
   "source": [
    "### Min Replication Time"
   ]
  },
  {
   "cell_type": "code",
   "execution_count": 13,
   "metadata": {},
   "outputs": [
    {
     "data": {
      "text/html": [
       "<div>\n",
       "<style scoped>\n",
       "    .dataframe tbody tr th:only-of-type {\n",
       "        vertical-align: middle;\n",
       "    }\n",
       "\n",
       "    .dataframe tbody tr th {\n",
       "        vertical-align: top;\n",
       "    }\n",
       "\n",
       "    .dataframe thead th {\n",
       "        text-align: right;\n",
       "    }\n",
       "</style>\n",
       "<table border=\"1\" class=\"dataframe\">\n",
       "  <thead>\n",
       "    <tr style=\"text-align: right;\">\n",
       "      <th></th>\n",
       "      <th>Name</th>\n",
       "      <th>Replication_Duration</th>\n",
       "    </tr>\n",
       "  </thead>\n",
       "  <tbody>\n",
       "    <tr>\n",
       "      <th>363</th>\n",
       "      <td>Bletchley</td>\n",
       "      <td>99.0</td>\n",
       "    </tr>\n",
       "  </tbody>\n",
       "</table>\n",
       "</div>"
      ],
      "text/plain": [
       "          Name  Replication_Duration\n",
       "363  Bletchley                  99.0"
      ]
     },
     "execution_count": 13,
     "metadata": {},
     "output_type": "execute_result"
    }
   ],
   "source": [
    "data['Replication_Duration'] = data['Replication_Duration'].replace(0,np.nan)\n",
    "min_Rep = data[['Name','Replication_Duration']].where (data['Replication_Duration'] == data['Replication_Duration'].min())\n",
    "min_Rep.dropna()"
   ]
  },
  {
   "cell_type": "markdown",
   "metadata": {},
   "source": [
    "<h3>Total Failed Replication</h3>"
   ]
  },
  {
   "cell_type": "code",
   "execution_count": 14,
   "metadata": {},
   "outputs": [
    {
     "name": "stdout",
     "output_type": "stream",
     "text": [
      "82 number of stores didn't ran Replication\n"
     ]
    }
   ],
   "source": [
    "data['Replication_Duration'] = data['Replication_Duration'].replace(np.nan,0)\n",
    "minRep = data[['Name','Replication_Duration']].where(data['Replication_Duration'] == data['Replication_Duration'].min())\n",
    "minRep = minRep.dropna()\n",
    "Totalreplicationfailed = len(minRep) \n",
    "print(Totalreplicationfailed,\"number of stores didn't ran Replication\")"
   ]
  },
  {
   "cell_type": "markdown",
   "metadata": {},
   "source": [
    "<h3> Total successful Replication </h3>"
   ]
  },
  {
   "cell_type": "code",
   "execution_count": 15,
   "metadata": {},
   "outputs": [
    {
     "name": "stdout",
     "output_type": "stream",
     "text": [
      "717 number of stores didn't ran Replication\n"
     ]
    }
   ],
   "source": [
    "data['Replication_Duration'] = data['Replication_Duration'].replace(np.nan,0)\n",
    "maxRep = data[['Name','Replication_Duration']].where(data['Replication_Duration'] != data['Replication_Duration'].min())\n",
    "maxRep = maxRep.dropna()\n",
    "Totalreplicationsuccessful = len(maxRep) \n",
    "print(Totalreplicationsuccessful,\"number of stores didn't ran Replication\")"
   ]
  },
  {
   "cell_type": "markdown",
   "metadata": {},
   "source": [
    "### Average Replication Time"
   ]
  },
  {
   "cell_type": "code",
   "execution_count": 16,
   "metadata": {},
   "outputs": [
    {
     "name": "stdout",
     "output_type": "stream",
     "text": [
      "The average time taken for the Replication is  253 seconds\n"
     ]
    }
   ],
   "source": [
    "MeanRep = data['Replication_Duration'].mean()\n",
    "print('The average time taken for the Replication is ',math.ceil(MeanRep),'seconds')"
   ]
  },
  {
   "cell_type": "markdown",
   "metadata": {},
   "source": [
    "<h3> Replication success failure distribution </h3>"
   ]
  },
  {
   "cell_type": "code",
   "execution_count": 17,
   "metadata": {},
   "outputs": [
    {
     "data": {
      "image/png": "[encoded data removed]",
      "text/plain": [
       "<Figure size 432x288 with 1 Axes>"
      ]
     },
     "metadata": {},
     "output_type": "display_data"
    }
   ],
   "source": [
    "# Data to plot\n",
    "labels = 'Successful Replication', 'Failed Replication'\n",
    "sizes = [Totalreplicationsuccessful,Totalreplicationfailed]\n",
    "colors = ['Green', 'Red']\n",
    "explode = (0.1, 0)  # explode 1st slice\n",
    "\n",
    "# Plot\n",
    "plt.pie(sizes, explode=explode, labels=labels, colors=colors,\n",
    "autopct='%1.1f%%', shadow=True, startangle=140)\n",
    "\n",
    "plt.axis('equal')\n",
    "plt.show()"
   ]
  },
  {
   "cell_type": "markdown",
   "metadata": {},
   "source": [
    "### Max Deployment Time"
   ]
  },
  {
   "cell_type": "code",
   "execution_count": 18,
   "metadata": {},
   "outputs": [
    {
     "data": {
      "text/html": [
       "<div>\n",
       "<style scoped>\n",
       "    .dataframe tbody tr th:only-of-type {\n",
       "        vertical-align: middle;\n",
       "    }\n",
       "\n",
       "    .dataframe tbody tr th {\n",
       "        vertical-align: top;\n",
       "    }\n",
       "\n",
       "    .dataframe thead th {\n",
       "        text-align: right;\n",
       "    }\n",
       "</style>\n",
       "<table border=\"1\" class=\"dataframe\">\n",
       "  <thead>\n",
       "    <tr style=\"text-align: right;\">\n",
       "      <th></th>\n",
       "      <th>Name</th>\n",
       "      <th>_Dep_Duration</th>\n",
       "    </tr>\n",
       "  </thead>\n",
       "  <tbody>\n",
       "    <tr>\n",
       "      <th>151</th>\n",
       "      <td>Stevenage</td>\n",
       "      <td>567.0</td>\n",
       "    </tr>\n",
       "  </tbody>\n",
       "</table>\n",
       "</div>"
      ],
      "text/plain": [
       "          Name  _Dep_Duration\n",
       "151  Stevenage          567.0"
      ]
     },
     "execution_count": 18,
     "metadata": {},
     "output_type": "execute_result"
    }
   ],
   "source": [
    "maxDep = data[['Name','_Dep_Duration']].where(data['_Dep_Duration'] == data['_Dep_Duration'].max())\n",
    "maxDep.dropna()"
   ]
  },
  {
   "cell_type": "markdown",
   "metadata": {},
   "source": [
    "### Min Deployment Time"
   ]
  },
  {
   "cell_type": "code",
   "execution_count": 19,
   "metadata": {},
   "outputs": [
    {
     "data": {
      "text/html": [
       "<div>\n",
       "<style scoped>\n",
       "    .dataframe tbody tr th:only-of-type {\n",
       "        vertical-align: middle;\n",
       "    }\n",
       "\n",
       "    .dataframe tbody tr th {\n",
       "        vertical-align: top;\n",
       "    }\n",
       "\n",
       "    .dataframe thead th {\n",
       "        text-align: right;\n",
       "    }\n",
       "</style>\n",
       "<table border=\"1\" class=\"dataframe\">\n",
       "  <thead>\n",
       "    <tr style=\"text-align: right;\">\n",
       "      <th></th>\n",
       "      <th>Name</th>\n",
       "      <th>_Dep_Duration</th>\n",
       "    </tr>\n",
       "  </thead>\n",
       "  <tbody>\n",
       "    <tr>\n",
       "      <th>768</th>\n",
       "      <td>Holbeach</td>\n",
       "      <td>17.0</td>\n",
       "    </tr>\n",
       "  </tbody>\n",
       "</table>\n",
       "</div>"
      ],
      "text/plain": [
       "         Name  _Dep_Duration\n",
       "768  Holbeach           17.0"
      ]
     },
     "execution_count": 19,
     "metadata": {},
     "output_type": "execute_result"
    }
   ],
   "source": [
    "data['_Dep_Duration'] = data['_Dep_Duration'].replace(0,np.nan)\n",
    "min_Dep = data[['Name','_Dep_Duration']].where (data['_Dep_Duration'] == data['_Dep_Duration'].min())\n",
    "min_Dep.dropna()"
   ]
  },
  {
   "cell_type": "markdown",
   "metadata": {},
   "source": [
    "<h3> Total Failed Deployment</h3>"
   ]
  },
  {
   "cell_type": "code",
   "execution_count": 20,
   "metadata": {},
   "outputs": [
    {
     "name": "stdout",
     "output_type": "stream",
     "text": [
      "264 number of stores where artifacts didn't got deployed\n"
     ]
    }
   ],
   "source": [
    "data['_Dep_Duration'] = data['_Dep_Duration'].replace(np.nan,0)\n",
    "min_Dep = data[['Name','_Dep_Duration']].where (data['_Dep_Duration'] == data['_Dep_Duration'].min())\n",
    "minDep = min_Dep.dropna()\n",
    "totalfailedDeployment = len(minDep)\n",
    "print(totalfailedDeployment,\"number of stores where artifacts didn't got deployed\")"
   ]
  },
  {
   "cell_type": "markdown",
   "metadata": {},
   "source": [
    "<h3> Total successful Deployment </h3>"
   ]
  },
  {
   "cell_type": "code",
   "execution_count": 21,
   "metadata": {},
   "outputs": [
    {
     "name": "stdout",
     "output_type": "stream",
     "text": [
      "535 number of stores where artifacts got deployed successfully\n"
     ]
    }
   ],
   "source": [
    "max_Dep = data[['Name','_Dep_Duration']].where (data['_Dep_Duration'] != data['_Dep_Duration'].min())\n",
    "maxDep = max_Dep.dropna()\n",
    "totalsuccessfulDeployment = len(maxDep)\n",
    "print(totalsuccessfulDeployment,\"number of stores where artifacts got deployed successfully\")"
   ]
  },
  {
   "cell_type": "markdown",
   "metadata": {},
   "source": [
    "### Average Deployment Time"
   ]
  },
  {
   "cell_type": "code",
   "execution_count": 22,
   "metadata": {},
   "outputs": [
    {
     "name": "stdout",
     "output_type": "stream",
     "text": [
      "The average time taken for the Deployment is  75 seconds\n"
     ]
    }
   ],
   "source": [
    "MeanDep = data['_Dep_Duration'].mean()\n",
    "print('The average time taken for the Deployment is ',math.ceil(MeanDep),'seconds')\n"
   ]
  },
  {
   "cell_type": "markdown",
   "metadata": {},
   "source": [
    "<h3> Deployment Success Failure Distribution</h3> "
   ]
  },
  {
   "cell_type": "code",
   "execution_count": 23,
   "metadata": {},
   "outputs": [
    {
     "data": {
      "image/png": "[encoded data removed]",
      "text/plain": [
       "<Figure size 432x288 with 1 Axes>"
      ]
     },
     "metadata": {},
     "output_type": "display_data"
    }
   ],
   "source": [
    "# Data to plot\n",
    "labels = 'Successful Deployment', 'Failed Deployment'\n",
    "sizes = [totalsuccessfulDeployment,totalfailedDeployment]\n",
    "colors = ['Green', 'Red']\n",
    "explode = (0.1, 0)  # explode 1st slice\n",
    "\n",
    "# Plot\n",
    "plt.pie(sizes, explode=explode, labels=labels, colors=colors,\n",
    "autopct='%1.1f%%', shadow=True, startangle=140)\n",
    "\n",
    "plt.axis('equal')\n",
    "plt.show()"
   ]
  },
  {
   "cell_type": "code",
   "execution_count": 39,
   "metadata": {},
   "outputs": [],
   "source": [
    "#data['Replication_Duration'] = data['Replication_Duration'].replace(np.nan,0)\n",
    "#maxRep = data[['Name','Replication_Duration']].where(data['Replication_Duration'] != data['Replication_Duration'].min())\n",
    "#maxRep = maxRep.dropna()\n",
    "import pandas_profiling\n",
    "profile_report = pandas_profiling.ProfileReport(data)\n",
    "profile_report.to_file('D2.4.49.html')\n",
    "#profile_report.to_html()\n",
    "#Totalreplicationsuccessful = len(maxRep) \n",
    "#print(Totalreplicationsuccessful,\"number of stores didn't ran Replication\")"
   ]
  },
  {
   "cell_type": "code",
   "execution_count": null,
   "metadata": {},
   "outputs": [],
   "source": []
  }
 ],
 "metadata": {
  "kernelspec": {
   "display_name": "Python 3",
   "language": "python",
   "name": "python3"
  },
  "language_info": {
   "codemirror_mode": {
    "name": "ipython",
    "version": 3
   },
   "file_extension": ".py",
   "mimetype": "text/x-python",
   "name": "python",
   "nbconvert_exporter": "python",
   "pygments_lexer": "ipython3",
   "version": "3.7.0"
  }
 },
 "nbformat": 4,
 "nbformat_minor": 2
}
