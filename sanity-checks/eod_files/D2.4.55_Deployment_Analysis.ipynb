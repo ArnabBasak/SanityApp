{
 "cells": [
  {
   "cell_type": "markdown",
   "metadata": {},
   "source": [
    "<h1>D2.4.55 Analytics</h1>"
   ]
  },
  {
   "cell_type": "markdown",
   "metadata": {},
   "source": [
    "<h3>For other D50 Series Relese analytics check Below links</h3>\n",
    "<a href=\"#\">D2.4.50</a>&nbsp;&nbsp;&nbsp;<a href=\"#\">D2.4.51</a>&nbsp;&nbsp;&nbsp;<a href=\"#\">D2.4.52</a>&nbsp;&nbsp;&nbsp;<a href=\"#\">D2.4.53</a>&nbsp;&nbsp;&nbsp;<a href=\"#\">D2.4.54</a>&nbsp;&nbsp;&nbsp;<a href=\"#\">D2.4.55</a>&nbsp;&nbsp;&nbsp;<a href=\"#\">D2.4.56</a>&nbsp;&nbsp;&nbsp;<a href=\"#\">D2.4.57</a>&nbsp;&nbsp;&nbsp;<a href=\"#\">D2.4.58</a>&nbsp;&nbsp;&nbsp;<a href=\"#\">D2.4.59</a>"
   ]
  },
  {
   "cell_type": "code",
   "execution_count": 1,
   "metadata": {},
   "outputs": [],
   "source": [
    "import pandas as pd\n",
    "import numpy as np"
   ]
  },
  {
   "cell_type": "code",
   "execution_count": 2,
   "metadata": {},
   "outputs": [],
   "source": [
    "data = pd.read_csv('D2.4.55.csv')"
   ]
  },
  {
   "cell_type": "code",
   "execution_count": 3,
   "metadata": {
    "scrolled": false
   },
   "outputs": [
    {
     "data": {
      "text/html": [
       "<div>\n",
       "<style scoped>\n",
       "    .dataframe tbody tr th:only-of-type {\n",
       "        vertical-align: middle;\n",
       "    }\n",
       "\n",
       "    .dataframe tbody tr th {\n",
       "        vertical-align: top;\n",
       "    }\n",
       "\n",
       "    .dataframe thead th {\n",
       "        text-align: right;\n",
       "    }\n",
       "</style>\n",
       "<table border=\"1\" class=\"dataframe\">\n",
       "  <thead>\n",
       "    <tr style=\"text-align: right;\">\n",
       "      <th></th>\n",
       "      <th>Country</th>\n",
       "      <th>Store</th>\n",
       "      <th>Name</th>\n",
       "      <th>Date</th>\n",
       "      <th>EOD_Start</th>\n",
       "      <th>EOD_Finish</th>\n",
       "      <th>EOD_Duration</th>\n",
       "      <th>_Backup_Start</th>\n",
       "      <th>_Backup_End</th>\n",
       "      <th>_Replication_Start</th>\n",
       "      <th>_Replication_End</th>\n",
       "      <th>Replication_Duration</th>\n",
       "      <th>_Deployment_Start</th>\n",
       "      <th>_Deployment_End</th>\n",
       "      <th>_Dep_Duration</th>\n",
       "    </tr>\n",
       "  </thead>\n",
       "  <tbody>\n",
       "    <tr>\n",
       "      <th>0</th>\n",
       "      <td>England  UK</td>\n",
       "      <td>1</td>\n",
       "      <td>Basingstoke</td>\n",
       "      <td>17/09/2018</td>\n",
       "      <td>17/09/2018 19:39:22</td>\n",
       "      <td>17/09/2018 21:04:41</td>\n",
       "      <td>5119.0</td>\n",
       "      <td>17/09/2018 20:02:17</td>\n",
       "      <td>17/09/2018 20:26:54</td>\n",
       "      <td>17/09/2018 20:32:19</td>\n",
       "      <td>17/09/2018 20:36:48</td>\n",
       "      <td>269.0</td>\n",
       "      <td>17/09/2018 20:38:01</td>\n",
       "      <td>17/09/2018 20:38:21</td>\n",
       "      <td>20.0</td>\n",
       "    </tr>\n",
       "    <tr>\n",
       "      <th>1</th>\n",
       "      <td>England  UK</td>\n",
       "      <td>2</td>\n",
       "      <td>Southampton</td>\n",
       "      <td>17/09/2018</td>\n",
       "      <td>17/09/2018 19:35:37</td>\n",
       "      <td>17/09/2018 22:38:58</td>\n",
       "      <td>11001.0</td>\n",
       "      <td>17/09/2018 19:57:31</td>\n",
       "      <td>17/09/2018 21:28:37</td>\n",
       "      <td>17/09/2018 21:49:04</td>\n",
       "      <td>17/09/2018 22:00:29</td>\n",
       "      <td>685.0</td>\n",
       "      <td>17/09/2018 22:00:49</td>\n",
       "      <td>17/09/2018 22:05:47</td>\n",
       "      <td>298.0</td>\n",
       "    </tr>\n",
       "    <tr>\n",
       "      <th>2</th>\n",
       "      <td>England  UK</td>\n",
       "      <td>3</td>\n",
       "      <td>Isle of Wight</td>\n",
       "      <td>17/09/2018</td>\n",
       "      <td>17/09/2018 18:15:36</td>\n",
       "      <td>17/09/2018 20:16:31</td>\n",
       "      <td>7255.0</td>\n",
       "      <td>17/09/2018 18:55:34</td>\n",
       "      <td>17/09/2018 19:16:20</td>\n",
       "      <td>17/09/2018 19:20:35</td>\n",
       "      <td>17/09/2018 19:25:24</td>\n",
       "      <td>289.0</td>\n",
       "      <td>17/09/2018 19:25:32</td>\n",
       "      <td>17/09/2018 19:29:35</td>\n",
       "      <td>243.0</td>\n",
       "    </tr>\n",
       "    <tr>\n",
       "      <th>3</th>\n",
       "      <td>Wales  UK</td>\n",
       "      <td>5</td>\n",
       "      <td>Port Talbot</td>\n",
       "      <td>17/09/2018</td>\n",
       "      <td>17/09/2018 17:44:59</td>\n",
       "      <td>17/09/2018 18:41:19</td>\n",
       "      <td>3380.0</td>\n",
       "      <td>17/09/2018 18:19:03</td>\n",
       "      <td>17/09/2018 18:26:22</td>\n",
       "      <td>17/09/2018 18:29:37</td>\n",
       "      <td>17/09/2018 18:33:32</td>\n",
       "      <td>235.0</td>\n",
       "      <td>17/09/2018 18:33:59</td>\n",
       "      <td>17/09/2018 18:37:08</td>\n",
       "      <td>189.0</td>\n",
       "    </tr>\n",
       "    <tr>\n",
       "      <th>4</th>\n",
       "      <td>England  UK</td>\n",
       "      <td>8</td>\n",
       "      <td>Peterborough</td>\n",
       "      <td>17/09/2018</td>\n",
       "      <td>17/09/2018 18:39:38</td>\n",
       "      <td>17/09/2018 22:03:20</td>\n",
       "      <td>12222.0</td>\n",
       "      <td>17/09/2018 19:03:10</td>\n",
       "      <td>17/09/2018 19:56:24</td>\n",
       "      <td>17/09/2018 20:07:00</td>\n",
       "      <td>17/09/2018 20:10:09</td>\n",
       "      <td>189.0</td>\n",
       "      <td>17/09/2018 20:12:30</td>\n",
       "      <td>17/09/2018 20:13:27</td>\n",
       "      <td>57.0</td>\n",
       "    </tr>\n",
       "  </tbody>\n",
       "</table>\n",
       "</div>"
      ],
      "text/plain": [
       "       Country  Store           Name        Date            EOD_Start  \\\n",
       "0  England  UK      1    Basingstoke  17/09/2018  17/09/2018 19:39:22   \n",
       "1  England  UK      2    Southampton  17/09/2018  17/09/2018 19:35:37   \n",
       "2  England  UK      3  Isle of Wight  17/09/2018  17/09/2018 18:15:36   \n",
       "3    Wales  UK      5    Port Talbot  17/09/2018  17/09/2018 17:44:59   \n",
       "4  England  UK      8   Peterborough  17/09/2018  17/09/2018 18:39:38   \n",
       "\n",
       "            EOD_Finish  EOD_Duration        _Backup_Start  \\\n",
       "0  17/09/2018 21:04:41        5119.0  17/09/2018 20:02:17   \n",
       "1  17/09/2018 22:38:58       11001.0  17/09/2018 19:57:31   \n",
       "2  17/09/2018 20:16:31        7255.0  17/09/2018 18:55:34   \n",
       "3  17/09/2018 18:41:19        3380.0  17/09/2018 18:19:03   \n",
       "4  17/09/2018 22:03:20       12222.0  17/09/2018 19:03:10   \n",
       "\n",
       "           _Backup_End   _Replication_Start     _Replication_End  \\\n",
       "0  17/09/2018 20:26:54  17/09/2018 20:32:19  17/09/2018 20:36:48   \n",
       "1  17/09/2018 21:28:37  17/09/2018 21:49:04  17/09/2018 22:00:29   \n",
       "2  17/09/2018 19:16:20  17/09/2018 19:20:35  17/09/2018 19:25:24   \n",
       "3  17/09/2018 18:26:22  17/09/2018 18:29:37  17/09/2018 18:33:32   \n",
       "4  17/09/2018 19:56:24  17/09/2018 20:07:00  17/09/2018 20:10:09   \n",
       "\n",
       "   Replication_Duration    _Deployment_Start      _Deployment_End  \\\n",
       "0                 269.0  17/09/2018 20:38:01  17/09/2018 20:38:21   \n",
       "1                 685.0  17/09/2018 22:00:49  17/09/2018 22:05:47   \n",
       "2                 289.0  17/09/2018 19:25:32  17/09/2018 19:29:35   \n",
       "3                 235.0  17/09/2018 18:33:59  17/09/2018 18:37:08   \n",
       "4                 189.0  17/09/2018 20:12:30  17/09/2018 20:13:27   \n",
       "\n",
       "   _Dep_Duration  \n",
       "0           20.0  \n",
       "1          298.0  \n",
       "2          243.0  \n",
       "3          189.0  \n",
       "4           57.0  "
      ]
     },
     "execution_count": 3,
     "metadata": {},
     "output_type": "execute_result"
    }
   ],
   "source": [
    "data.columns = data.columns.str.replace(' ','_')\n",
    "data = data.drop(columns=['_PL_File_Size'])\n",
    "data = data.drop(columns=['_Replication_Window'])\n",
    "data = data.drop(columns=['_ST_File_Size'])\n",
    "data = data.fillna(0)\n",
    "data = data.rename(columns={'EOD_Duration(s)':'EOD_Duration','_Replication_Duration(s)':'Replication_Duration'})\n",
    "data = data.replace('-',0)\n",
    "data['EOD_Duration'] = data['EOD_Duration'].astype(float)\n",
    "data['Replication_Duration'] = data['Replication_Duration'].astype(float)\n",
    "data['_Dep_Duration'] = data['_Dep_Duration'].astype(float)\n",
    "data.head()"
   ]
  },
  {
   "cell_type": "markdown",
   "metadata": {},
   "source": [
    "### Deployment Date"
   ]
  },
  {
   "cell_type": "markdown",
   "metadata": {},
   "source": [
    "D2.4.55 was rolled out on"
   ]
  },
  {
   "cell_type": "code",
   "execution_count": 4,
   "metadata": {},
   "outputs": [
    {
     "name": "stdout",
     "output_type": "stream",
     "text": [
      " 17/09/2018\n"
     ]
    }
   ],
   "source": [
    "date = data['Date'].head(1)\n",
    "date_Deployed = date.to_string().replace(\"0    \",\" \")\n",
    "print(date_Deployed)"
   ]
  },
  {
   "cell_type": "markdown",
   "metadata": {},
   "source": [
    "### Regions Deployed"
   ]
  },
  {
   "cell_type": "markdown",
   "metadata": {},
   "source": [
    "D2.4.55 was Deployed on the Below Regions "
   ]
  },
  {
   "cell_type": "code",
   "execution_count": 5,
   "metadata": {},
   "outputs": [
    {
     "name": "stdout",
     "output_type": "stream",
     "text": [
      "England  UK\n",
      "Wales  UK\n",
      "Channel Islands\n",
      "Scotland  UK\n",
      "Northern Ireland  UK\n",
      "Isle of Man\n"
     ]
    }
   ],
   "source": [
    "region_rolled_out = data.Country.unique()\n",
    "for elements in region_rolled_out:\n",
    "    print(elements)"
   ]
  },
  {
   "cell_type": "markdown",
   "metadata": {},
   "source": [
    "### Max EOD Time"
   ]
  },
  {
   "cell_type": "code",
   "execution_count": 6,
   "metadata": {},
   "outputs": [
    {
     "data": {
      "text/html": [
       "<div>\n",
       "<style scoped>\n",
       "    .dataframe tbody tr th:only-of-type {\n",
       "        vertical-align: middle;\n",
       "    }\n",
       "\n",
       "    .dataframe tbody tr th {\n",
       "        vertical-align: top;\n",
       "    }\n",
       "\n",
       "    .dataframe thead th {\n",
       "        text-align: right;\n",
       "    }\n",
       "</style>\n",
       "<table border=\"1\" class=\"dataframe\">\n",
       "  <thead>\n",
       "    <tr style=\"text-align: right;\">\n",
       "      <th></th>\n",
       "      <th>Name</th>\n",
       "      <th>EOD_Duration</th>\n",
       "    </tr>\n",
       "  </thead>\n",
       "  <tbody>\n",
       "    <tr>\n",
       "      <th>73</th>\n",
       "      <td>Glasgow</td>\n",
       "      <td>23072.0</td>\n",
       "    </tr>\n",
       "  </tbody>\n",
       "</table>\n",
       "</div>"
      ],
      "text/plain": [
       "       Name  EOD_Duration\n",
       "73  Glasgow       23072.0"
      ]
     },
     "execution_count": 6,
     "metadata": {},
     "output_type": "execute_result"
    }
   ],
   "source": [
    "maxEOD = data[['Name','EOD_Duration']].where(data['EOD_Duration'] == data['EOD_Duration'].max())\n",
    "maxEOD.dropna()"
   ]
  },
  {
   "cell_type": "markdown",
   "metadata": {},
   "source": [
    "<h3> Min EOD Time </h3>"
   ]
  },
  {
   "cell_type": "code",
   "execution_count": 7,
   "metadata": {},
   "outputs": [
    {
     "data": {
      "text/html": [
       "<div>\n",
       "<style scoped>\n",
       "    .dataframe tbody tr th:only-of-type {\n",
       "        vertical-align: middle;\n",
       "    }\n",
       "\n",
       "    .dataframe tbody tr th {\n",
       "        vertical-align: top;\n",
       "    }\n",
       "\n",
       "    .dataframe thead th {\n",
       "        text-align: right;\n",
       "    }\n",
       "</style>\n",
       "<table border=\"1\" class=\"dataframe\">\n",
       "  <thead>\n",
       "    <tr style=\"text-align: right;\">\n",
       "      <th></th>\n",
       "      <th>Name</th>\n",
       "      <th>EOD_Duration</th>\n",
       "    </tr>\n",
       "  </thead>\n",
       "  <tbody>\n",
       "    <tr>\n",
       "      <th>737</th>\n",
       "      <td>Hampton</td>\n",
       "      <td>2022.0</td>\n",
       "    </tr>\n",
       "  </tbody>\n",
       "</table>\n",
       "</div>"
      ],
      "text/plain": [
       "        Name  EOD_Duration\n",
       "737  Hampton        2022.0"
      ]
     },
     "execution_count": 7,
     "metadata": {},
     "output_type": "execute_result"
    }
   ],
   "source": [
    "data['EOD_Duration'] = data['EOD_Duration'].replace(0,np.nan)\n",
    "min_EOD = data[['Name','EOD_Duration']].where (data['EOD_Duration'] == data['EOD_Duration'].min())\n",
    "min_EOD.dropna()"
   ]
  },
  {
   "cell_type": "markdown",
   "metadata": {},
   "source": [
    "### Total failed EOD"
   ]
  },
  {
   "cell_type": "code",
   "execution_count": 8,
   "metadata": {},
   "outputs": [
    {
     "name": "stdout",
     "output_type": "stream",
     "text": [
      "110 number of stores didn't ran EOD\n"
     ]
    }
   ],
   "source": [
    "data['EOD_Duration'] = data['EOD_Duration'].replace(np.nan,0)\n",
    "minEOD = data[['Name','EOD_Duration']].where(data['EOD_Duration'] == data['EOD_Duration'].min())\n",
    "minEOD = minEOD.dropna()\n",
    "TotalfailedEOD = len(minEOD)\n",
    "print(TotalfailedEOD,\"number of stores didn't ran EOD\")"
   ]
  },
  {
   "cell_type": "markdown",
   "metadata": {},
   "source": [
    "<h3> Total successful EOD</EOD>"
   ]
  },
  {
   "cell_type": "code",
   "execution_count": 9,
   "metadata": {},
   "outputs": [
    {
     "name": "stdout",
     "output_type": "stream",
     "text": [
      "721 number of stores have successful EOD\n"
     ]
    }
   ],
   "source": [
    "data['EOD_Duration'] = data['EOD_Duration'].replace(np.nan,0)\n",
    "maxEOD = data[['Name','EOD_Duration']].where(data['EOD_Duration'] != data['EOD_Duration'].min())\n",
    "maxEOD = maxEOD.dropna()\n",
    "TotalsuccessfulEOD = len(maxEOD)\n",
    "print(TotalsuccessfulEOD,\"number of stores have successful EOD\")"
   ]
  },
  {
   "cell_type": "markdown",
   "metadata": {},
   "source": [
    "### Average EOD Time"
   ]
  },
  {
   "cell_type": "code",
   "execution_count": 10,
   "metadata": {},
   "outputs": [
    {
     "name": "stdout",
     "output_type": "stream",
     "text": [
      "The average time taken for the EOD is  4468 seconds\n"
     ]
    }
   ],
   "source": [
    "import math\n",
    "MeanEOD = data['EOD_Duration'].mean()\n",
    "print('The average time taken for the EOD is ',math.ceil(MeanEOD),'seconds')"
   ]
  },
  {
   "cell_type": "markdown",
   "metadata": {},
   "source": [
    "<h3>EOD success Failure Distribution</h3>"
   ]
  },
  {
   "cell_type": "code",
   "execution_count": 12,
   "metadata": {},
   "outputs": [
    {
     "data": {
      "image/png": "[encoded data removed]",
      "text/plain": [
       "<Figure size 432x288 with 1 Axes>"
      ]
     },
     "metadata": {},
     "output_type": "display_data"
    }
   ],
   "source": [
    "import matplotlib.pyplot as plt\n",
    "\n",
    "# Data to plot\n",
    "labels = 'Successful EOD', 'Failed EOD'\n",
    "sizes = [TotalsuccessfulEOD,TotalfailedEOD]\n",
    "colors = ['Green', 'Red']\n",
    "explode = (0.1, 0)  # explode 1st slice\n",
    "\n",
    "# Plot\n",
    "plt.pie(sizes, explode=explode, labels=labels, colors=colors,\n",
    "autopct='%1.1f%%', shadow=True, startangle=140)\n",
    "\n",
    "plt.axis('equal')\n",
    "plt.show()"
   ]
  },
  {
   "cell_type": "markdown",
   "metadata": {},
   "source": [
    "### Max Replication Time"
   ]
  },
  {
   "cell_type": "code",
   "execution_count": 13,
   "metadata": {},
   "outputs": [
    {
     "data": {
      "text/html": [
       "<div>\n",
       "<style scoped>\n",
       "    .dataframe tbody tr th:only-of-type {\n",
       "        vertical-align: middle;\n",
       "    }\n",
       "\n",
       "    .dataframe tbody tr th {\n",
       "        vertical-align: top;\n",
       "    }\n",
       "\n",
       "    .dataframe thead th {\n",
       "        text-align: right;\n",
       "    }\n",
       "</style>\n",
       "<table border=\"1\" class=\"dataframe\">\n",
       "  <thead>\n",
       "    <tr style=\"text-align: right;\">\n",
       "      <th></th>\n",
       "      <th>Name</th>\n",
       "      <th>Replication_Duration</th>\n",
       "    </tr>\n",
       "  </thead>\n",
       "  <tbody>\n",
       "    <tr>\n",
       "      <th>485</th>\n",
       "      <td>Batley</td>\n",
       "      <td>6324.0</td>\n",
       "    </tr>\n",
       "  </tbody>\n",
       "</table>\n",
       "</div>"
      ],
      "text/plain": [
       "       Name  Replication_Duration\n",
       "485  Batley                6324.0"
      ]
     },
     "execution_count": 13,
     "metadata": {},
     "output_type": "execute_result"
    }
   ],
   "source": [
    "maxRep = data[['Name','Replication_Duration']].where(data['Replication_Duration'] == data['Replication_Duration'].max())\n",
    "maxRep.dropna()"
   ]
  },
  {
   "cell_type": "markdown",
   "metadata": {},
   "source": [
    "### Min Replication Time"
   ]
  },
  {
   "cell_type": "code",
   "execution_count": 14,
   "metadata": {},
   "outputs": [
    {
     "data": {
      "text/html": [
       "<div>\n",
       "<style scoped>\n",
       "    .dataframe tbody tr th:only-of-type {\n",
       "        vertical-align: middle;\n",
       "    }\n",
       "\n",
       "    .dataframe tbody tr th {\n",
       "        vertical-align: top;\n",
       "    }\n",
       "\n",
       "    .dataframe thead th {\n",
       "        text-align: right;\n",
       "    }\n",
       "</style>\n",
       "<table border=\"1\" class=\"dataframe\">\n",
       "  <thead>\n",
       "    <tr style=\"text-align: right;\">\n",
       "      <th></th>\n",
       "      <th>Name</th>\n",
       "      <th>Replication_Duration</th>\n",
       "    </tr>\n",
       "  </thead>\n",
       "  <tbody>\n",
       "    <tr>\n",
       "      <th>308</th>\n",
       "      <td>Aldershot</td>\n",
       "      <td>99.0</td>\n",
       "    </tr>\n",
       "    <tr>\n",
       "      <th>693</th>\n",
       "      <td>Westway Cross</td>\n",
       "      <td>99.0</td>\n",
       "    </tr>\n",
       "  </tbody>\n",
       "</table>\n",
       "</div>"
      ],
      "text/plain": [
       "              Name  Replication_Duration\n",
       "308      Aldershot                  99.0\n",
       "693  Westway Cross                  99.0"
      ]
     },
     "execution_count": 14,
     "metadata": {},
     "output_type": "execute_result"
    }
   ],
   "source": [
    "data['Replication_Duration'] = data['Replication_Duration'].replace(0,np.nan)\n",
    "min_Rep = data[['Name','Replication_Duration']].where (data['Replication_Duration'] == data['Replication_Duration'].min())\n",
    "min_Rep.dropna()"
   ]
  },
  {
   "cell_type": "markdown",
   "metadata": {},
   "source": [
    "<h3>Total Failed Replication</h3>"
   ]
  },
  {
   "cell_type": "code",
   "execution_count": 15,
   "metadata": {},
   "outputs": [
    {
     "name": "stdout",
     "output_type": "stream",
     "text": [
      "36 number of stores didn't ran Replication\n"
     ]
    }
   ],
   "source": [
    "data['Replication_Duration'] = data['Replication_Duration'].replace(np.nan,0)\n",
    "minRep = data[['Name','Replication_Duration']].where(data['Replication_Duration'] == data['Replication_Duration'].min())\n",
    "minRep = minRep.dropna()\n",
    "Totalreplicationfailed = len(minRep) \n",
    "print(Totalreplicationfailed,\"number of stores didn't ran Replication\")"
   ]
  },
  {
   "cell_type": "markdown",
   "metadata": {},
   "source": [
    "<h3> Total successful Replication </h3>"
   ]
  },
  {
   "cell_type": "code",
   "execution_count": 16,
   "metadata": {},
   "outputs": [
    {
     "name": "stdout",
     "output_type": "stream",
     "text": [
      "795 number of stores didn't ran Replication\n"
     ]
    }
   ],
   "source": [
    "data['Replication_Duration'] = data['Replication_Duration'].replace(np.nan,0)\n",
    "maxRep = data[['Name','Replication_Duration']].where(data['Replication_Duration'] != data['Replication_Duration'].min())\n",
    "maxRep = maxRep.dropna()\n",
    "Totalreplicationsuccessful = len(maxRep) \n",
    "print(Totalreplicationsuccessful,\"number of stores didn't ran Replication\")"
   ]
  },
  {
   "cell_type": "markdown",
   "metadata": {},
   "source": [
    "### Average Replication Time"
   ]
  },
  {
   "cell_type": "code",
   "execution_count": 17,
   "metadata": {},
   "outputs": [
    {
     "name": "stdout",
     "output_type": "stream",
     "text": [
      "The average time taken for the Replication is  271 seconds\n"
     ]
    }
   ],
   "source": [
    "MeanRep = data['Replication_Duration'].mean()\n",
    "print('The average time taken for the Replication is ',math.ceil(MeanRep),'seconds')"
   ]
  },
  {
   "cell_type": "markdown",
   "metadata": {},
   "source": [
    "<h3> Replication success failure distribution </h3>"
   ]
  },
  {
   "cell_type": "code",
   "execution_count": 18,
   "metadata": {},
   "outputs": [
    {
     "data": {
      "image/png": "[encoded data removed]",
      "text/plain": [
       "<Figure size 432x288 with 1 Axes>"
      ]
     },
     "metadata": {},
     "output_type": "display_data"
    }
   ],
   "source": [
    "# Data to plot\n",
    "labels = 'Successful Replication', 'Failed Replication'\n",
    "sizes = [Totalreplicationsuccessful,Totalreplicationfailed]\n",
    "colors = ['Green', 'Red']\n",
    "explode = (0.1, 0)  # explode 1st slice\n",
    "\n",
    "# Plot\n",
    "plt.pie(sizes, explode=explode, labels=labels, colors=colors,\n",
    "autopct='%1.1f%%', shadow=True, startangle=140)\n",
    "\n",
    "plt.axis('equal')\n",
    "plt.show()"
   ]
  },
  {
   "cell_type": "markdown",
   "metadata": {},
   "source": [
    "### Max Deployment Time"
   ]
  },
  {
   "cell_type": "code",
   "execution_count": 19,
   "metadata": {},
   "outputs": [
    {
     "data": {
      "text/html": [
       "<div>\n",
       "<style scoped>\n",
       "    .dataframe tbody tr th:only-of-type {\n",
       "        vertical-align: middle;\n",
       "    }\n",
       "\n",
       "    .dataframe tbody tr th {\n",
       "        vertical-align: top;\n",
       "    }\n",
       "\n",
       "    .dataframe thead th {\n",
       "        text-align: right;\n",
       "    }\n",
       "</style>\n",
       "<table border=\"1\" class=\"dataframe\">\n",
       "  <thead>\n",
       "    <tr style=\"text-align: right;\">\n",
       "      <th></th>\n",
       "      <th>Name</th>\n",
       "      <th>_Dep_Duration</th>\n",
       "    </tr>\n",
       "  </thead>\n",
       "  <tbody>\n",
       "    <tr>\n",
       "      <th>582</th>\n",
       "      <td>Ludlow</td>\n",
       "      <td>1134.0</td>\n",
       "    </tr>\n",
       "  </tbody>\n",
       "</table>\n",
       "</div>"
      ],
      "text/plain": [
       "       Name  _Dep_Duration\n",
       "582  Ludlow         1134.0"
      ]
     },
     "execution_count": 19,
     "metadata": {},
     "output_type": "execute_result"
    }
   ],
   "source": [
    "maxDep = data[['Name','_Dep_Duration']].where(data['_Dep_Duration'] == data['_Dep_Duration'].max())\n",
    "maxDep.dropna()"
   ]
  },
  {
   "cell_type": "markdown",
   "metadata": {},
   "source": [
    "### Min Deployment Time"
   ]
  },
  {
   "cell_type": "code",
   "execution_count": 20,
   "metadata": {},
   "outputs": [
    {
     "data": {
      "text/html": [
       "<div>\n",
       "<style scoped>\n",
       "    .dataframe tbody tr th:only-of-type {\n",
       "        vertical-align: middle;\n",
       "    }\n",
       "\n",
       "    .dataframe tbody tr th {\n",
       "        vertical-align: top;\n",
       "    }\n",
       "\n",
       "    .dataframe thead th {\n",
       "        text-align: right;\n",
       "    }\n",
       "</style>\n",
       "<table border=\"1\" class=\"dataframe\">\n",
       "  <thead>\n",
       "    <tr style=\"text-align: right;\">\n",
       "      <th></th>\n",
       "      <th>Name</th>\n",
       "      <th>_Dep_Duration</th>\n",
       "    </tr>\n",
       "  </thead>\n",
       "  <tbody>\n",
       "    <tr>\n",
       "      <th>0</th>\n",
       "      <td>Basingstoke</td>\n",
       "      <td>20.0</td>\n",
       "    </tr>\n",
       "    <tr>\n",
       "      <th>671</th>\n",
       "      <td>Petersfield</td>\n",
       "      <td>20.0</td>\n",
       "    </tr>\n",
       "    <tr>\n",
       "      <th>780</th>\n",
       "      <td>North Walsham</td>\n",
       "      <td>20.0</td>\n",
       "    </tr>\n",
       "  </tbody>\n",
       "</table>\n",
       "</div>"
      ],
      "text/plain": [
       "              Name  _Dep_Duration\n",
       "0      Basingstoke           20.0\n",
       "671    Petersfield           20.0\n",
       "780  North Walsham           20.0"
      ]
     },
     "execution_count": 20,
     "metadata": {},
     "output_type": "execute_result"
    }
   ],
   "source": [
    "data['_Dep_Duration'] = data['_Dep_Duration'].replace(0,np.nan)\n",
    "min_Dep = data[['Name','_Dep_Duration']].where (data['_Dep_Duration'] == data['_Dep_Duration'].min())\n",
    "min_Dep.dropna()"
   ]
  },
  {
   "cell_type": "markdown",
   "metadata": {},
   "source": [
    "<h3> Total Failed Deployment</h3>"
   ]
  },
  {
   "cell_type": "code",
   "execution_count": 21,
   "metadata": {},
   "outputs": [
    {
     "name": "stdout",
     "output_type": "stream",
     "text": [
      "135 number of stores where artifacts didn't got deployed\n"
     ]
    }
   ],
   "source": [
    "data['_Dep_Duration'] = data['_Dep_Duration'].replace(np.nan,0)\n",
    "min_Dep = data[['Name','_Dep_Duration']].where (data['_Dep_Duration'] == data['_Dep_Duration'].min())\n",
    "minDep = min_Dep.dropna()\n",
    "totalfailedDeployment = len(minDep)\n",
    "print(totalfailedDeployment,\"number of stores where artifacts didn't got deployed\")"
   ]
  },
  {
   "cell_type": "markdown",
   "metadata": {},
   "source": [
    "<h3> Total successful Deployment </h3>"
   ]
  },
  {
   "cell_type": "code",
   "execution_count": 22,
   "metadata": {},
   "outputs": [
    {
     "name": "stdout",
     "output_type": "stream",
     "text": [
      "696 number of stores where artifacts got deployed successfully\n"
     ]
    }
   ],
   "source": [
    "max_Dep = data[['Name','_Dep_Duration']].where (data['_Dep_Duration'] != data['_Dep_Duration'].min())\n",
    "maxDep = max_Dep.dropna()\n",
    "totalsuccessfulDeployment = len(maxDep)\n",
    "print(totalsuccessfulDeployment,\"number of stores where artifacts got deployed successfully\")"
   ]
  },
  {
   "cell_type": "markdown",
   "metadata": {},
   "source": [
    "### Average Deployment Time"
   ]
  },
  {
   "cell_type": "code",
   "execution_count": 23,
   "metadata": {},
   "outputs": [
    {
     "name": "stdout",
     "output_type": "stream",
     "text": [
      "The average time taken for the Deployment is  119 seconds\n"
     ]
    }
   ],
   "source": [
    "MeanDep = data['_Dep_Duration'].mean()\n",
    "print('The average time taken for the Deployment is ',math.ceil(MeanDep),'seconds')\n"
   ]
  },
  {
   "cell_type": "markdown",
   "metadata": {},
   "source": [
    "<h3> Deployment Success Failure Distribution</h3> "
   ]
  },
  {
   "cell_type": "code",
   "execution_count": 24,
   "metadata": {},
   "outputs": [
    {
     "data": {
      "image/png": "[encoded data removed]",
      "text/plain": [
       "<Figure size 432x288 with 1 Axes>"
      ]
     },
     "metadata": {},
     "output_type": "display_data"
    }
   ],
   "source": [
    "# Data to plot\n",
    "labels = 'Successful Deployment', 'Failed Deployment'\n",
    "sizes = [totalsuccessfulDeployment,totalfailedDeployment]\n",
    "colors = ['Green', 'Red']\n",
    "explode = (0.1, 0)  # explode 1st slice\n",
    "\n",
    "# Plot\n",
    "plt.pie(sizes, explode=explode, labels=labels, colors=colors,\n",
    "autopct='%1.1f%%', shadow=True, startangle=140)\n",
    "\n",
    "plt.axis('equal')\n",
    "plt.show()"
   ]
  },
  {
   "cell_type": "code",
   "execution_count": 26,
   "metadata": {},
   "outputs": [],
   "source": [
    "#data['Replication_Duration'] = data['Replication_Duration'].replace(np.nan,0)\n",
    "#maxRep = data[['Name','Replication_Duration']].where(data['Replication_Duration'] != data['Replication_Duration'].min())\n",
    "#maxRep = maxRep.dropna()\n",
    "import pandas_profiling\n",
    "profile_report = pandas_profiling.ProfileReport(data)\n",
    "profile_report.to_file('D2.4.55_DrillDown.html')\n",
    "#profile_report.to_html()\n",
    "#Totalreplicationsuccessful = len(maxRep) \n",
    "#print(Totalreplicationsuccessful,\"number of stores didn't ran Replication\")"
   ]
  },
  {
   "cell_type": "markdown",
   "metadata": {},
   "source": [
    "<a href=\"Analytics/D2.4.55_DrillDown.html\">Drill Down for more Analytics</a>"
   ]
  },
  {
   "cell_type": "code",
   "execution_count": null,
   "metadata": {},
   "outputs": [],
   "source": []
  }
 ],
 "metadata": {
  "kernelspec": {
   "display_name": "Python 3",
   "language": "python",
   "name": "python3"
  },
  "language_info": {
   "codemirror_mode": {
    "name": "ipython",
    "version": 3
   },
   "file_extension": ".py",
   "mimetype": "text/x-python",
   "name": "python",
   "nbconvert_exporter": "python",
   "pygments_lexer": "ipython3",
   "version": "3.7.0"
  }
 },
 "nbformat": 4,
 "nbformat_minor": 2
}
